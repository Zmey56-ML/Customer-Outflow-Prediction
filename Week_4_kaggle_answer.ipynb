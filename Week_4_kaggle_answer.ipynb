{
 "cells": [
  {
   "cell_type": "code",
   "execution_count": 0,
   "metadata": {
    "colab": {},
    "colab_type": "code",
    "id": "6okq57gYsEIC"
   },
   "outputs": [],
   "source": [
    "import pandas as pd\n",
    "import numpy as np\n",
    "from matplotlib import pyplot as plt"
   ]
  },
  {
   "cell_type": "code",
   "execution_count": 0,
   "metadata": {
    "colab": {
     "base_uri": "https://localhost:8080/",
     "height": 121
    },
    "colab_type": "code",
    "id": "fCpl13V9u6JA",
    "outputId": "d1fddd27-d1a1-4b08-82df-0c745c874526"
   },
   "outputs": [
    {
     "name": "stdout",
     "output_type": "stream",
     "text": [
      "Go to this URL in a browser: https://accounts.google.com/o/oauth2/auth?client_id=947318989803-6bn6qk8qdgf4n4g3pfee6491hc0brc4i.apps.googleusercontent.com&redirect_uri=urn%3aietf%3awg%3aoauth%3a2.0%3aoob&response_type=code&scope=email%20https%3a%2f%2fwww.googleapis.com%2fauth%2fdocs.test%20https%3a%2f%2fwww.googleapis.com%2fauth%2fdrive%20https%3a%2f%2fwww.googleapis.com%2fauth%2fdrive.photos.readonly%20https%3a%2f%2fwww.googleapis.com%2fauth%2fpeopleapi.readonly\n",
      "\n",
      "Enter your authorization code:\n",
      "··········\n",
      "Mounted at /gdrive\n"
     ]
    }
   ],
   "source": [
    "# Данный код монтирует гугл диск к директории /gdrive\n",
    "from google.colab import drive\n",
    "drive.mount('/gdrive')"
   ]
  },
  {
   "cell_type": "code",
   "execution_count": 0,
   "metadata": {
    "colab": {
     "base_uri": "https://localhost:8080/",
     "height": 34
    },
    "colab_type": "code",
    "id": "ySA9oVRysEIV",
    "outputId": "2a3e9805-5b2d-4e24-9bb7-73216409157e"
   },
   "outputs": [
    {
     "data": {
      "text/plain": [
       "(18299, 232)"
      ]
     },
     "execution_count": 3,
     "metadata": {
      "tags": []
     },
     "output_type": "execute_result"
    }
   ],
   "source": [
    "train = pd.read_csv('/gdrive/My Drive/DATA/Stepik/orange_small_churn_train_data.csv')\n",
    "train.shape"
   ]
  },
  {
   "cell_type": "code",
   "execution_count": 0,
   "metadata": {
    "colab": {
     "base_uri": "https://localhost:8080/",
     "height": 34
    },
    "colab_type": "code",
    "id": "DlCkbwSssEIt",
    "outputId": "df7a1e1f-9247-4deb-82d2-1afeb2c7d9e5"
   },
   "outputs": [
    {
     "data": {
      "text/plain": [
       "(10000, 231)"
      ]
     },
     "execution_count": 4,
     "metadata": {
      "tags": []
     },
     "output_type": "execute_result"
    }
   ],
   "source": [
    "test = pd.read_csv('/gdrive/My Drive/DATA/Stepik/orange_small_churn_test_data.csv')\n",
    "test.shape"
   ]
  },
  {
   "cell_type": "code",
   "execution_count": 0,
   "metadata": {
    "colab": {},
    "colab_type": "code",
    "id": "fo4Fl_pQsEKT"
   },
   "outputs": [],
   "source": [
    "from sklearn.preprocessing import LabelEncoder\n",
    "\n",
    "def labelEncoder(data):\n",
    "    #data = data.fillna(0)\n",
    "    le = LabelEncoder()\n",
    "    for m in range(190,230):\n",
    "        #print(m)\n",
    "        tmp = data.iloc[:,m].astype(str)\n",
    "        le.fit(tmp)\n",
    "        data.iloc[:,m] = le.transform(tmp)        \n",
    "    return data"
   ]
  },
  {
   "cell_type": "code",
   "execution_count": 0,
   "metadata": {
    "colab": {},
    "colab_type": "code",
    "id": "dqsUktp1Ti5K"
   },
   "outputs": [],
   "source": [
    "# проведем испытания XGBoost\n",
    "import xgboost as xgb\n",
    "from sklearn.model_selection import cross_val_score, GridSearchCV, KFold, RandomizedSearchCV\n",
    "from sklearn.metrics import auc, accuracy_score, confusion_matrix, mean_squared_error\n",
    "from scipy.stats import uniform, randint\n",
    "from xgboost import XGBClassifier\n",
    "import time"
   ]
  },
  {
   "cell_type": "code",
   "execution_count": 0,
   "metadata": {
    "colab": {},
    "colab_type": "code",
    "id": "SC9dKgs-8wBy"
   },
   "outputs": [],
   "source": [
    "x_data_le = labelEncoder(train.iloc[:,:230])"
   ]
  },
  {
   "cell_type": "code",
   "execution_count": 0,
   "metadata": {
    "colab": {},
    "colab_type": "code",
    "id": "XmUX8LMscW6Y"
   },
   "outputs": [],
   "source": [
    "x_train = x_data_le\n",
    "y_train = train['labels']"
   ]
  },
  {
   "cell_type": "code",
   "execution_count": 0,
   "metadata": {
    "colab": {},
    "colab_type": "code",
    "id": "3oiUax54ljwr"
   },
   "outputs": [],
   "source": [
    "clf = XGBClassifier()"
   ]
  },
  {
   "cell_type": "code",
   "execution_count": 0,
   "metadata": {
    "colab": {},
    "colab_type": "code",
    "id": "04n4f6aKd8SM"
   },
   "outputs": [],
   "source": [
    "param_grid = {\n",
    "        'silent': [False],\n",
    "        'max_depth': [6, 10, 15, 20],\n",
    "        'learning_rate': [0.001, 0.01, 0.1, 0.2, 0,3],\n",
    "        'subsample': [0.5, 0.6, 0.7, 0.8, 0.9, 1.0],\n",
    "        'colsample_bytree': [0.4, 0.5, 0.6, 0.7, 0.8, 0.9, 1.0],\n",
    "        'colsample_bylevel': [0.4, 0.5, 0.6, 0.7, 0.8, 0.9, 1.0],\n",
    "        'min_child_weight': [0.5, 1.0, 3.0, 5.0, 7.0, 10.0],\n",
    "        'gamma': [0, 0.25, 0.5, 1.0],\n",
    "        'reg_lambda': [0.1, 1.0, 5.0, 10.0, 50.0, 100.0],\n",
    "        'n_estimators': [100, 200, 300, 400, 500, 600, 700, 800, 900, 1000]}"
   ]
  },
  {
   "cell_type": "code",
   "execution_count": 0,
   "metadata": {
    "colab": {},
    "colab_type": "code",
    "id": "QimXpoKfq799"
   },
   "outputs": [],
   "source": [
    "y_train_nan = y_train.drop([18298])\n",
    "x_train_nan = x_train.drop([18298])\n",
    "x_train_nan = x_train_nan.fillna(0)\n",
    "y_train_nan = y_train_nan.fillna(0)"
   ]
  },
  {
   "cell_type": "code",
   "execution_count": 0,
   "metadata": {
    "colab": {
     "base_uri": "https://localhost:8080/",
     "height": 1000
    },
    "colab_type": "code",
    "id": "-nd3cqFbcHFP",
    "outputId": "8dab573b-c692-4ca4-93b3-1fb7a66dd476"
   },
   "outputs": [
    {
     "name": "stdout",
     "output_type": "stream",
     "text": [
      "Randomized search..\n",
      "Fitting 2 folds for each of 20 candidates, totalling 40 fits\n",
      "[CV] subsample=0.9, silent=False, reg_lambda=5.0, n_estimators=800, min_child_weight=7.0, max_depth=10, learning_rate=3, gamma=1.0, colsample_bytree=0.6, colsample_bylevel=0.8 \n"
     ]
    },
    {
     "name": "stderr",
     "output_type": "stream",
     "text": [
      "[Parallel(n_jobs=1)]: Using backend SequentialBackend with 1 concurrent workers.\n",
      "/usr/local/lib/python3.6/dist-packages/sklearn/metrics/_classification.py:2295: RuntimeWarning: divide by zero encountered in log\n",
      "  loss = -(transformed_labels * np.log(y_pred)).sum(axis=1)\n",
      "/usr/local/lib/python3.6/dist-packages/sklearn/metrics/_classification.py:2295: RuntimeWarning: invalid value encountered in multiply\n",
      "  loss = -(transformed_labels * np.log(y_pred)).sum(axis=1)\n",
      "[Parallel(n_jobs=1)]: Done   1 out of   1 | elapsed:   13.7s remaining:    0.0s\n"
     ]
    },
    {
     "name": "stdout",
     "output_type": "stream",
     "text": [
      "[CV]  subsample=0.9, silent=False, reg_lambda=5.0, n_estimators=800, min_child_weight=7.0, max_depth=10, learning_rate=3, gamma=1.0, colsample_bytree=0.6, colsample_bylevel=0.8, total=  13.7s\n",
      "[CV] subsample=0.9, silent=False, reg_lambda=5.0, n_estimators=800, min_child_weight=7.0, max_depth=10, learning_rate=3, gamma=1.0, colsample_bytree=0.6, colsample_bylevel=0.8 \n"
     ]
    },
    {
     "name": "stderr",
     "output_type": "stream",
     "text": [
      "/usr/local/lib/python3.6/dist-packages/sklearn/metrics/_classification.py:2295: RuntimeWarning: divide by zero encountered in log\n",
      "  loss = -(transformed_labels * np.log(y_pred)).sum(axis=1)\n",
      "/usr/local/lib/python3.6/dist-packages/sklearn/metrics/_classification.py:2295: RuntimeWarning: invalid value encountered in multiply\n",
      "  loss = -(transformed_labels * np.log(y_pred)).sum(axis=1)\n"
     ]
    },
    {
     "name": "stdout",
     "output_type": "stream",
     "text": [
      "[CV]  subsample=0.9, silent=False, reg_lambda=5.0, n_estimators=800, min_child_weight=7.0, max_depth=10, learning_rate=3, gamma=1.0, colsample_bytree=0.6, colsample_bylevel=0.8, total=  13.5s\n",
      "[CV] subsample=0.7, silent=False, reg_lambda=0.1, n_estimators=300, min_child_weight=7.0, max_depth=6, learning_rate=0.1, gamma=0.5, colsample_bytree=0.7, colsample_bylevel=0.8 \n",
      "[CV]  subsample=0.7, silent=False, reg_lambda=0.1, n_estimators=300, min_child_weight=7.0, max_depth=6, learning_rate=0.1, gamma=0.5, colsample_bytree=0.7, colsample_bylevel=0.8, total=  21.9s\n",
      "[CV] subsample=0.7, silent=False, reg_lambda=0.1, n_estimators=300, min_child_weight=7.0, max_depth=6, learning_rate=0.1, gamma=0.5, colsample_bytree=0.7, colsample_bylevel=0.8 \n",
      "[CV]  subsample=0.7, silent=False, reg_lambda=0.1, n_estimators=300, min_child_weight=7.0, max_depth=6, learning_rate=0.1, gamma=0.5, colsample_bytree=0.7, colsample_bylevel=0.8, total=  22.0s\n",
      "[CV] subsample=0.6, silent=False, reg_lambda=10.0, n_estimators=800, min_child_weight=1.0, max_depth=20, learning_rate=0.1, gamma=0.5, colsample_bytree=1.0, colsample_bylevel=1.0 \n",
      "[CV]  subsample=0.6, silent=False, reg_lambda=10.0, n_estimators=800, min_child_weight=1.0, max_depth=20, learning_rate=0.1, gamma=0.5, colsample_bytree=1.0, colsample_bylevel=1.0, total= 3.4min\n",
      "[CV] subsample=0.6, silent=False, reg_lambda=10.0, n_estimators=800, min_child_weight=1.0, max_depth=20, learning_rate=0.1, gamma=0.5, colsample_bytree=1.0, colsample_bylevel=1.0 \n",
      "[CV]  subsample=0.6, silent=False, reg_lambda=10.0, n_estimators=800, min_child_weight=1.0, max_depth=20, learning_rate=0.1, gamma=0.5, colsample_bytree=1.0, colsample_bylevel=1.0, total= 3.3min\n",
      "[CV] subsample=0.9, silent=False, reg_lambda=5.0, n_estimators=200, min_child_weight=10.0, max_depth=6, learning_rate=0.001, gamma=1.0, colsample_bytree=1.0, colsample_bylevel=0.6 \n",
      "[CV]  subsample=0.9, silent=False, reg_lambda=5.0, n_estimators=200, min_child_weight=10.0, max_depth=6, learning_rate=0.001, gamma=1.0, colsample_bytree=1.0, colsample_bylevel=0.6, total=  12.5s\n",
      "[CV] subsample=0.9, silent=False, reg_lambda=5.0, n_estimators=200, min_child_weight=10.0, max_depth=6, learning_rate=0.001, gamma=1.0, colsample_bytree=1.0, colsample_bylevel=0.6 \n",
      "[CV]  subsample=0.9, silent=False, reg_lambda=5.0, n_estimators=200, min_child_weight=10.0, max_depth=6, learning_rate=0.001, gamma=1.0, colsample_bytree=1.0, colsample_bylevel=0.6, total=  11.9s\n",
      "[CV] subsample=1.0, silent=False, reg_lambda=0.1, n_estimators=1000, min_child_weight=3.0, max_depth=15, learning_rate=0.001, gamma=1.0, colsample_bytree=0.7, colsample_bylevel=0.5 \n",
      "[CV]  subsample=1.0, silent=False, reg_lambda=0.1, n_estimators=1000, min_child_weight=3.0, max_depth=15, learning_rate=0.001, gamma=1.0, colsample_bytree=0.7, colsample_bylevel=0.5, total= 1.8min\n",
      "[CV] subsample=1.0, silent=False, reg_lambda=0.1, n_estimators=1000, min_child_weight=3.0, max_depth=15, learning_rate=0.001, gamma=1.0, colsample_bytree=0.7, colsample_bylevel=0.5 \n",
      "[CV]  subsample=1.0, silent=False, reg_lambda=0.1, n_estimators=1000, min_child_weight=3.0, max_depth=15, learning_rate=0.001, gamma=1.0, colsample_bytree=0.7, colsample_bylevel=0.5, total= 1.8min\n",
      "[CV] subsample=0.5, silent=False, reg_lambda=1.0, n_estimators=900, min_child_weight=3.0, max_depth=15, learning_rate=0.001, gamma=0, colsample_bytree=1.0, colsample_bylevel=1.0 \n",
      "[CV]  subsample=0.5, silent=False, reg_lambda=1.0, n_estimators=900, min_child_weight=3.0, max_depth=15, learning_rate=0.001, gamma=0, colsample_bytree=1.0, colsample_bylevel=1.0, total= 3.6min\n",
      "[CV] subsample=0.5, silent=False, reg_lambda=1.0, n_estimators=900, min_child_weight=3.0, max_depth=15, learning_rate=0.001, gamma=0, colsample_bytree=1.0, colsample_bylevel=1.0 \n",
      "[CV]  subsample=0.5, silent=False, reg_lambda=1.0, n_estimators=900, min_child_weight=3.0, max_depth=15, learning_rate=0.001, gamma=0, colsample_bytree=1.0, colsample_bylevel=1.0, total= 3.6min\n",
      "[CV] subsample=0.5, silent=False, reg_lambda=10.0, n_estimators=500, min_child_weight=5.0, max_depth=10, learning_rate=0, gamma=1.0, colsample_bytree=0.7, colsample_bylevel=1.0 \n",
      "[CV]  subsample=0.5, silent=False, reg_lambda=10.0, n_estimators=500, min_child_weight=5.0, max_depth=10, learning_rate=0, gamma=1.0, colsample_bytree=0.7, colsample_bylevel=1.0, total=  21.8s\n",
      "[CV] subsample=0.5, silent=False, reg_lambda=10.0, n_estimators=500, min_child_weight=5.0, max_depth=10, learning_rate=0, gamma=1.0, colsample_bytree=0.7, colsample_bylevel=1.0 \n",
      "[CV]  subsample=0.5, silent=False, reg_lambda=10.0, n_estimators=500, min_child_weight=5.0, max_depth=10, learning_rate=0, gamma=1.0, colsample_bytree=0.7, colsample_bylevel=1.0, total=  20.4s\n",
      "[CV] subsample=0.5, silent=False, reg_lambda=0.1, n_estimators=800, min_child_weight=1.0, max_depth=20, learning_rate=3, gamma=0.5, colsample_bytree=1.0, colsample_bylevel=0.8 \n"
     ]
    },
    {
     "name": "stderr",
     "output_type": "stream",
     "text": [
      "/usr/local/lib/python3.6/dist-packages/sklearn/metrics/_classification.py:2295: RuntimeWarning: divide by zero encountered in log\n",
      "  loss = -(transformed_labels * np.log(y_pred)).sum(axis=1)\n",
      "/usr/local/lib/python3.6/dist-packages/sklearn/metrics/_classification.py:2295: RuntimeWarning: invalid value encountered in multiply\n",
      "  loss = -(transformed_labels * np.log(y_pred)).sum(axis=1)\n"
     ]
    },
    {
     "name": "stdout",
     "output_type": "stream",
     "text": [
      "[CV]  subsample=0.5, silent=False, reg_lambda=0.1, n_estimators=800, min_child_weight=1.0, max_depth=20, learning_rate=3, gamma=0.5, colsample_bytree=1.0, colsample_bylevel=0.8, total=  20.4s\n",
      "[CV] subsample=0.5, silent=False, reg_lambda=0.1, n_estimators=800, min_child_weight=1.0, max_depth=20, learning_rate=3, gamma=0.5, colsample_bytree=1.0, colsample_bylevel=0.8 \n",
      "[CV]  subsample=0.5, silent=False, reg_lambda=0.1, n_estimators=800, min_child_weight=1.0, max_depth=20, learning_rate=3, gamma=0.5, colsample_bytree=1.0, colsample_bylevel=0.8, total=  20.6s\n",
      "[CV] subsample=0.6, silent=False, reg_lambda=100.0, n_estimators=900, min_child_weight=5.0, max_depth=10, learning_rate=0, gamma=0.25, colsample_bytree=0.8, colsample_bylevel=1.0 \n",
      "[CV]  subsample=0.6, silent=False, reg_lambda=100.0, n_estimators=900, min_child_weight=5.0, max_depth=10, learning_rate=0, gamma=0.25, colsample_bytree=0.8, colsample_bylevel=1.0, total=  35.7s\n",
      "[CV] subsample=0.6, silent=False, reg_lambda=100.0, n_estimators=900, min_child_weight=5.0, max_depth=10, learning_rate=0, gamma=0.25, colsample_bytree=0.8, colsample_bylevel=1.0 \n",
      "[CV]  subsample=0.6, silent=False, reg_lambda=100.0, n_estimators=900, min_child_weight=5.0, max_depth=10, learning_rate=0, gamma=0.25, colsample_bytree=0.8, colsample_bylevel=1.0, total=  36.0s\n",
      "[CV] subsample=1.0, silent=False, reg_lambda=1.0, n_estimators=600, min_child_weight=5.0, max_depth=15, learning_rate=0.01, gamma=0.5, colsample_bytree=0.4, colsample_bylevel=0.7 \n",
      "[CV]  subsample=1.0, silent=False, reg_lambda=1.0, n_estimators=600, min_child_weight=5.0, max_depth=15, learning_rate=0.01, gamma=0.5, colsample_bytree=0.4, colsample_bylevel=0.7, total=  48.7s\n",
      "[CV] subsample=1.0, silent=False, reg_lambda=1.0, n_estimators=600, min_child_weight=5.0, max_depth=15, learning_rate=0.01, gamma=0.5, colsample_bytree=0.4, colsample_bylevel=0.7 \n",
      "[CV]  subsample=1.0, silent=False, reg_lambda=1.0, n_estimators=600, min_child_weight=5.0, max_depth=15, learning_rate=0.01, gamma=0.5, colsample_bytree=0.4, colsample_bylevel=0.7, total=  48.5s\n",
      "[CV] subsample=1.0, silent=False, reg_lambda=5.0, n_estimators=800, min_child_weight=1.0, max_depth=15, learning_rate=0.01, gamma=1.0, colsample_bytree=0.4, colsample_bylevel=0.7 \n",
      "[CV]  subsample=1.0, silent=False, reg_lambda=5.0, n_estimators=800, min_child_weight=1.0, max_depth=15, learning_rate=0.01, gamma=1.0, colsample_bytree=0.4, colsample_bylevel=0.7, total= 1.2min\n",
      "[CV] subsample=1.0, silent=False, reg_lambda=5.0, n_estimators=800, min_child_weight=1.0, max_depth=15, learning_rate=0.01, gamma=1.0, colsample_bytree=0.4, colsample_bylevel=0.7 \n",
      "[CV]  subsample=1.0, silent=False, reg_lambda=5.0, n_estimators=800, min_child_weight=1.0, max_depth=15, learning_rate=0.01, gamma=1.0, colsample_bytree=0.4, colsample_bylevel=0.7, total= 1.2min\n",
      "[CV] subsample=0.5, silent=False, reg_lambda=5.0, n_estimators=100, min_child_weight=1.0, max_depth=6, learning_rate=3, gamma=0.5, colsample_bytree=0.4, colsample_bylevel=0.9 \n"
     ]
    },
    {
     "name": "stderr",
     "output_type": "stream",
     "text": [
      "/usr/local/lib/python3.6/dist-packages/sklearn/metrics/_classification.py:2295: RuntimeWarning: divide by zero encountered in log\n",
      "  loss = -(transformed_labels * np.log(y_pred)).sum(axis=1)\n",
      "/usr/local/lib/python3.6/dist-packages/sklearn/metrics/_classification.py:2295: RuntimeWarning: invalid value encountered in multiply\n",
      "  loss = -(transformed_labels * np.log(y_pred)).sum(axis=1)\n"
     ]
    },
    {
     "name": "stdout",
     "output_type": "stream",
     "text": [
      "[CV]  subsample=0.5, silent=False, reg_lambda=5.0, n_estimators=100, min_child_weight=1.0, max_depth=6, learning_rate=3, gamma=0.5, colsample_bytree=0.4, colsample_bylevel=0.9, total=   3.8s\n",
      "[CV] subsample=0.5, silent=False, reg_lambda=5.0, n_estimators=100, min_child_weight=1.0, max_depth=6, learning_rate=3, gamma=0.5, colsample_bytree=0.4, colsample_bylevel=0.9 \n"
     ]
    },
    {
     "name": "stderr",
     "output_type": "stream",
     "text": [
      "/usr/local/lib/python3.6/dist-packages/sklearn/metrics/_classification.py:2295: RuntimeWarning: divide by zero encountered in log\n",
      "  loss = -(transformed_labels * np.log(y_pred)).sum(axis=1)\n",
      "/usr/local/lib/python3.6/dist-packages/sklearn/metrics/_classification.py:2295: RuntimeWarning: invalid value encountered in multiply\n",
      "  loss = -(transformed_labels * np.log(y_pred)).sum(axis=1)\n"
     ]
    },
    {
     "name": "stdout",
     "output_type": "stream",
     "text": [
      "[CV]  subsample=0.5, silent=False, reg_lambda=5.0, n_estimators=100, min_child_weight=1.0, max_depth=6, learning_rate=3, gamma=0.5, colsample_bytree=0.4, colsample_bylevel=0.9, total=   3.2s\n",
      "[CV] subsample=1.0, silent=False, reg_lambda=0.1, n_estimators=600, min_child_weight=1.0, max_depth=15, learning_rate=0.001, gamma=0, colsample_bytree=0.7, colsample_bylevel=0.7 \n",
      "[CV]  subsample=1.0, silent=False, reg_lambda=0.1, n_estimators=600, min_child_weight=1.0, max_depth=15, learning_rate=0.001, gamma=0, colsample_bytree=0.7, colsample_bylevel=0.7, total= 1.4min\n",
      "[CV] subsample=1.0, silent=False, reg_lambda=0.1, n_estimators=600, min_child_weight=1.0, max_depth=15, learning_rate=0.001, gamma=0, colsample_bytree=0.7, colsample_bylevel=0.7 \n",
      "[CV]  subsample=1.0, silent=False, reg_lambda=0.1, n_estimators=600, min_child_weight=1.0, max_depth=15, learning_rate=0.001, gamma=0, colsample_bytree=0.7, colsample_bylevel=0.7, total= 1.4min\n",
      "[CV] subsample=1.0, silent=False, reg_lambda=1.0, n_estimators=100, min_child_weight=0.5, max_depth=15, learning_rate=0.001, gamma=0.5, colsample_bytree=0.5, colsample_bylevel=0.5 \n",
      "[CV]  subsample=1.0, silent=False, reg_lambda=1.0, n_estimators=100, min_child_weight=0.5, max_depth=15, learning_rate=0.001, gamma=0.5, colsample_bytree=0.5, colsample_bylevel=0.5, total=   8.1s\n",
      "[CV] subsample=1.0, silent=False, reg_lambda=1.0, n_estimators=100, min_child_weight=0.5, max_depth=15, learning_rate=0.001, gamma=0.5, colsample_bytree=0.5, colsample_bylevel=0.5 \n",
      "[CV]  subsample=1.0, silent=False, reg_lambda=1.0, n_estimators=100, min_child_weight=0.5, max_depth=15, learning_rate=0.001, gamma=0.5, colsample_bytree=0.5, colsample_bylevel=0.5, total=   8.1s\n",
      "[CV] subsample=0.6, silent=False, reg_lambda=50.0, n_estimators=400, min_child_weight=1.0, max_depth=10, learning_rate=0.01, gamma=1.0, colsample_bytree=0.4, colsample_bylevel=0.7 \n",
      "[CV]  subsample=0.6, silent=False, reg_lambda=50.0, n_estimators=400, min_child_weight=1.0, max_depth=10, learning_rate=0.01, gamma=1.0, colsample_bytree=0.4, colsample_bylevel=0.7, total=  25.5s\n",
      "[CV] subsample=0.6, silent=False, reg_lambda=50.0, n_estimators=400, min_child_weight=1.0, max_depth=10, learning_rate=0.01, gamma=1.0, colsample_bytree=0.4, colsample_bylevel=0.7 \n",
      "[CV]  subsample=0.6, silent=False, reg_lambda=50.0, n_estimators=400, min_child_weight=1.0, max_depth=10, learning_rate=0.01, gamma=1.0, colsample_bytree=0.4, colsample_bylevel=0.7, total=  25.3s\n",
      "[CV] subsample=1.0, silent=False, reg_lambda=50.0, n_estimators=900, min_child_weight=10.0, max_depth=15, learning_rate=0.001, gamma=0, colsample_bytree=0.5, colsample_bylevel=0.8 \n",
      "[CV]  subsample=1.0, silent=False, reg_lambda=50.0, n_estimators=900, min_child_weight=10.0, max_depth=15, learning_rate=0.001, gamma=0, colsample_bytree=0.5, colsample_bylevel=0.8, total=  18.6s\n",
      "[CV] subsample=1.0, silent=False, reg_lambda=50.0, n_estimators=900, min_child_weight=10.0, max_depth=15, learning_rate=0.001, gamma=0, colsample_bytree=0.5, colsample_bylevel=0.8 \n",
      "[CV]  subsample=1.0, silent=False, reg_lambda=50.0, n_estimators=900, min_child_weight=10.0, max_depth=15, learning_rate=0.001, gamma=0, colsample_bytree=0.5, colsample_bylevel=0.8, total=  18.5s\n",
      "[CV] subsample=0.8, silent=False, reg_lambda=1.0, n_estimators=100, min_child_weight=5.0, max_depth=6, learning_rate=0.2, gamma=0, colsample_bytree=0.6, colsample_bylevel=0.6 \n",
      "[CV]  subsample=0.8, silent=False, reg_lambda=1.0, n_estimators=100, min_child_weight=5.0, max_depth=6, learning_rate=0.2, gamma=0, colsample_bytree=0.6, colsample_bylevel=0.6, total=   5.1s\n",
      "[CV] subsample=0.8, silent=False, reg_lambda=1.0, n_estimators=100, min_child_weight=5.0, max_depth=6, learning_rate=0.2, gamma=0, colsample_bytree=0.6, colsample_bylevel=0.6 \n",
      "[CV]  subsample=0.8, silent=False, reg_lambda=1.0, n_estimators=100, min_child_weight=5.0, max_depth=6, learning_rate=0.2, gamma=0, colsample_bytree=0.6, colsample_bylevel=0.6, total=   5.0s\n",
      "[CV] subsample=0.8, silent=False, reg_lambda=50.0, n_estimators=1000, min_child_weight=0.5, max_depth=15, learning_rate=0.001, gamma=0.25, colsample_bytree=0.6, colsample_bylevel=1.0 \n",
      "[CV]  subsample=0.8, silent=False, reg_lambda=50.0, n_estimators=1000, min_child_weight=0.5, max_depth=15, learning_rate=0.001, gamma=0.25, colsample_bytree=0.6, colsample_bylevel=1.0, total= 2.4min\n",
      "[CV] subsample=0.8, silent=False, reg_lambda=50.0, n_estimators=1000, min_child_weight=0.5, max_depth=15, learning_rate=0.001, gamma=0.25, colsample_bytree=0.6, colsample_bylevel=1.0 \n",
      "[CV]  subsample=0.8, silent=False, reg_lambda=50.0, n_estimators=1000, min_child_weight=0.5, max_depth=15, learning_rate=0.001, gamma=0.25, colsample_bytree=0.6, colsample_bylevel=1.0, total= 2.3min\n",
      "[CV] subsample=1.0, silent=False, reg_lambda=100.0, n_estimators=100, min_child_weight=10.0, max_depth=20, learning_rate=3, gamma=0.25, colsample_bytree=0.4, colsample_bylevel=0.4 \n",
      "[CV]  subsample=1.0, silent=False, reg_lambda=100.0, n_estimators=100, min_child_weight=10.0, max_depth=20, learning_rate=3, gamma=0.25, colsample_bytree=0.4, colsample_bylevel=0.4, total=   1.4s\n",
      "[CV] subsample=1.0, silent=False, reg_lambda=100.0, n_estimators=100, min_child_weight=10.0, max_depth=20, learning_rate=3, gamma=0.25, colsample_bytree=0.4, colsample_bylevel=0.4 \n"
     ]
    },
    {
     "name": "stderr",
     "output_type": "stream",
     "text": [
      "/usr/local/lib/python3.6/dist-packages/sklearn/metrics/_classification.py:2295: RuntimeWarning: divide by zero encountered in log\n",
      "  loss = -(transformed_labels * np.log(y_pred)).sum(axis=1)\n",
      "/usr/local/lib/python3.6/dist-packages/sklearn/metrics/_classification.py:2295: RuntimeWarning: invalid value encountered in multiply\n",
      "  loss = -(transformed_labels * np.log(y_pred)).sum(axis=1)\n"
     ]
    },
    {
     "name": "stdout",
     "output_type": "stream",
     "text": [
      "[CV]  subsample=1.0, silent=False, reg_lambda=100.0, n_estimators=100, min_child_weight=10.0, max_depth=20, learning_rate=3, gamma=0.25, colsample_bytree=0.4, colsample_bylevel=0.4, total=   1.4s\n",
      "[CV] subsample=0.9, silent=False, reg_lambda=5.0, n_estimators=700, min_child_weight=5.0, max_depth=6, learning_rate=0.1, gamma=0, colsample_bytree=1.0, colsample_bylevel=0.4 \n",
      "[CV]  subsample=0.9, silent=False, reg_lambda=5.0, n_estimators=700, min_child_weight=5.0, max_depth=6, learning_rate=0.1, gamma=0, colsample_bytree=1.0, colsample_bylevel=0.4, total=  34.8s\n",
      "[CV] subsample=0.9, silent=False, reg_lambda=5.0, n_estimators=700, min_child_weight=5.0, max_depth=6, learning_rate=0.1, gamma=0, colsample_bytree=1.0, colsample_bylevel=0.4 \n",
      "[CV]  subsample=0.9, silent=False, reg_lambda=5.0, n_estimators=700, min_child_weight=5.0, max_depth=6, learning_rate=0.1, gamma=0, colsample_bytree=1.0, colsample_bylevel=0.4, total=  35.0s\n",
      "Randomized search time: 2191.8018317222595\n",
      "Best score: -0.24877938761655066\n",
      "Best params: \n",
      "colsample_bylevel: 0.7\n",
      "colsample_bytree: 0.4\n",
      "gamma: 0.5\n",
      "learning_rate: 0.01\n",
      "max_depth: 15\n",
      "min_child_weight: 5.0\n",
      "n_estimators: 600\n",
      "reg_lambda: 1.0\n",
      "silent: False\n",
      "subsample: 1.0\n"
     ]
    },
    {
     "name": "stderr",
     "output_type": "stream",
     "text": [
      "[Parallel(n_jobs=1)]: Done  40 out of  40 | elapsed: 36.5min finished\n"
     ]
    }
   ],
   "source": [
    "rs_clf = RandomizedSearchCV(clf, param_grid, n_iter=20,\n",
    "                            n_jobs=1, verbose=2, cv=2,\n",
    "                            scoring='neg_log_loss', refit=False, random_state=42)\n",
    "print(\"Randomized search..\")\n",
    "search_time_start = time.time()\n",
    "rs_clf.fit(x_train_nan[x_train_nan.columns[1:231]], y_train_nan)\n",
    "print(\"Randomized search time:\", time.time() - search_time_start)\n",
    "\n",
    "best_score = rs_clf.best_score_\n",
    "best_params = rs_clf.best_params_\n",
    "print(\"Best score: {}\".format(best_score))\n",
    "print(\"Best params: \")\n",
    "for param_name in sorted(best_params.keys()):\n",
    "    print('%s: %r' % (param_name, best_params[param_name]))"
   ]
  },
  {
   "cell_type": "code",
   "execution_count": 0,
   "metadata": {
    "colab": {},
    "colab_type": "code",
    "id": "MobfuK9JXrXz"
   },
   "outputs": [],
   "source": [
    "clf_best = XGBClassifier(colsample_bylevel=0.7, colsample_bytree=0.4, gamma = 0.5, learning_rate=0.01, max_depth=15, min_child_weight=5.0, n_estimators=600,\n",
    "                         reg_lambda=1.0, silent=False, subsample=1.0)"
   ]
  },
  {
   "cell_type": "code",
   "execution_count": 0,
   "metadata": {
    "colab": {
     "base_uri": "https://localhost:8080/",
     "height": 134
    },
    "colab_type": "code",
    "id": "2kqZzY9qmahC",
    "outputId": "1867a251-e590-45d5-e3d1-c7e0afaaa837"
   },
   "outputs": [
    {
     "data": {
      "text/plain": [
       "XGBClassifier(base_score=0.5, booster='gbtree', colsample_bylevel=0.7,\n",
       "              colsample_bynode=1, colsample_bytree=0.4, gamma=0.5,\n",
       "              learning_rate=0.01, max_delta_step=0, max_depth=15,\n",
       "              min_child_weight=5.0, missing=None, n_estimators=600, n_jobs=1,\n",
       "              nthread=None, objective='binary:logistic', random_state=0,\n",
       "              reg_alpha=0, reg_lambda=1.0, scale_pos_weight=1, seed=None,\n",
       "              silent=False, subsample=1.0, verbosity=1)"
      ]
     },
     "execution_count": 17,
     "metadata": {
      "tags": []
     },
     "output_type": "execute_result"
    }
   ],
   "source": [
    "clf_best.fit(x_train_nan[x_train_nan.columns[1:231]], y_train_nan)"
   ]
  },
  {
   "cell_type": "code",
   "execution_count": 0,
   "metadata": {
    "colab": {},
    "colab_type": "code",
    "id": "_kGMWCaYA1j0"
   },
   "outputs": [],
   "source": [
    "x_data_test_le = labelEncoder(test.iloc[:,:230])"
   ]
  },
  {
   "cell_type": "code",
   "execution_count": 0,
   "metadata": {
    "colab": {},
    "colab_type": "code",
    "id": "OY8hiKK1k_32"
   },
   "outputs": [],
   "source": [
    "x_data_test_le = x_data_test_le.fillna(0)"
   ]
  },
  {
   "cell_type": "code",
   "execution_count": 0,
   "metadata": {
    "colab": {},
    "colab_type": "code",
    "id": "h6bTEJxRleik"
   },
   "outputs": [],
   "source": [
    "pred_prob_1 = clf_best.predict(x_data_test_le[x_data_test_le.columns[1:]])"
   ]
  },
  {
   "cell_type": "code",
   "execution_count": 0,
   "metadata": {
    "colab": {},
    "colab_type": "code",
    "id": "Jlu5_T8llkaY"
   },
   "outputs": [],
   "source": [
    "df = pd.DataFrame({'ID': x_data_test_le.index, 'result': pred_prob_1})\n",
    "df.to_csv('answer11.csv', index = False)\n",
    "from google.colab import files\n",
    "files.download('answer11.csv')"
   ]
  },
  {
   "cell_type": "code",
   "execution_count": 0,
   "metadata": {
    "colab": {},
    "colab_type": "code",
    "id": "85fc5ORglQrO"
   },
   "outputs": [],
   "source": [
    "pred_prob_2 = clf_best.predict_proba(x_data_test_le[x_data_test_le.columns[1:]]).transpose()"
   ]
  },
  {
   "cell_type": "code",
   "execution_count": 0,
   "metadata": {
    "colab": {},
    "colab_type": "code",
    "id": "TkUOKarymBvn"
   },
   "outputs": [],
   "source": [
    "df = pd.DataFrame({'ID': x_data_test_le.index, 'result': pred_prob_2[1]})\n",
    "df.to_csv('answer12.csv', index = False)\n",
    "from google.colab import files\n",
    "files.download('answer12.csv')"
   ]
  },
  {
   "cell_type": "markdown",
   "metadata": {
    "colab_type": "text",
    "id": "_lDrQooZmZnr"
   },
   "source": [
    "### Result 0.70218"
   ]
  },
  {
   "cell_type": "code",
   "execution_count": 0,
   "metadata": {
    "colab": {},
    "colab_type": "code",
    "id": "tT1i-C-rmeal"
   },
   "outputs": [],
   "source": []
  }
 ],
 "metadata": {
  "colab": {
   "collapsed_sections": [],
   "name": "W4_kaggle_answer.ipynb",
   "provenance": []
  },
  "kernelspec": {
   "display_name": "Python 3",
   "language": "python",
   "name": "python3"
  },
  "language_info": {
   "codemirror_mode": {
    "name": "ipython",
    "version": 3
   },
   "file_extension": ".py",
   "mimetype": "text/x-python",
   "name": "python",
   "nbconvert_exporter": "python",
   "pygments_lexer": "ipython3",
   "version": "3.7.6"
  }
 },
 "nbformat": 4,
 "nbformat_minor": 1
}
