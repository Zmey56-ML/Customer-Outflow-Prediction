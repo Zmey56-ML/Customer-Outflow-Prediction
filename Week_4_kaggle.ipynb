{
 "cells": [
  {
   "cell_type": "code",
   "execution_count": 0,
   "metadata": {
    "colab": {},
    "colab_type": "code",
    "id": "6okq57gYsEIC"
   },
   "outputs": [],
   "source": [
    "import pandas as pd\n",
    "import numpy as np\n",
    "from matplotlib import pyplot as plt"
   ]
  },
  {
   "cell_type": "code",
   "execution_count": 0,
   "metadata": {
    "colab": {},
    "colab_type": "code",
    "id": "fCpl13V9u6JA"
   },
   "outputs": [],
   "source": [
    "# Данный код монтирует гугл диск к директории /gdrive\n",
    "from google.colab import drive\n",
    "drive.mount('/gdrive')"
   ]
  },
  {
   "cell_type": "code",
   "execution_count": 0,
   "metadata": {
    "colab": {
     "base_uri": "https://localhost:8080/",
     "height": 34
    },
    "colab_type": "code",
    "executionInfo": {
     "elapsed": 1995,
     "status": "ok",
     "timestamp": 1582563473424,
     "user": {
      "displayName": "Alexandr G.",
      "photoUrl": "https://lh3.googleusercontent.com/a-/AAuE7mClS9lT7I9GIyE01iu2ZUvoedcXdcleb7j2xhQtNWE=s64",
      "userId": "09466988309861796445"
     },
     "user_tz": -180
    },
    "id": "ySA9oVRysEIV",
    "outputId": "8d776dd0-d31d-423f-b90b-ccc2dd5a0c7e"
   },
   "outputs": [
    {
     "data": {
      "text/plain": [
       "(40000, 230)"
      ]
     },
     "execution_count": 44,
     "metadata": {
      "tags": []
     },
     "output_type": "execute_result"
    }
   ],
   "source": [
    "orange_data = pd.read_csv('/gdrive/My Drive/Colab Notebooks/FINAL_2/DATA/orange_small_churn_data.train')\n",
    "orange_data.shape"
   ]
  },
  {
   "cell_type": "code",
   "execution_count": 0,
   "metadata": {
    "colab": {},
    "colab_type": "code",
    "id": "DlCkbwSssEIt"
   },
   "outputs": [],
   "source": [
    "orange_labels = pd.read_csv('/gdrive/My Drive/Colab Notebooks/FINAL_2/DATA/orange_small_churn_labels.train', header=None, names=['label'])"
   ]
  },
  {
   "cell_type": "code",
   "execution_count": 0,
   "metadata": {
    "colab": {
     "base_uri": "https://localhost:8080/",
     "height": 34
    },
    "colab_type": "code",
    "executionInfo": {
     "elapsed": 757,
     "status": "ok",
     "timestamp": 1582563476657,
     "user": {
      "displayName": "Alexandr G.",
      "photoUrl": "https://lh3.googleusercontent.com/a-/AAuE7mClS9lT7I9GIyE01iu2ZUvoedcXdcleb7j2xhQtNWE=s64",
      "userId": "09466988309861796445"
     },
     "user_tz": -180
    },
    "id": "RQRR9pYnsEI4",
    "outputId": "1fca38c9-8a56-4853-ce8c-0fc568faccdd"
   },
   "outputs": [
    {
     "data": {
      "text/plain": [
       "(40000, 231)"
      ]
     },
     "execution_count": 46,
     "metadata": {
      "tags": []
     },
     "output_type": "execute_result"
    }
   ],
   "source": [
    "train = pd.concat([orange_data, orange_labels], axis=1)\n",
    "train.shape"
   ]
  },
  {
   "cell_type": "markdown",
   "metadata": {
    "colab_type": "text",
    "id": "OjP-9E7asEJx"
   },
   "source": [
    "**Так как классы не сбалансированы проводим oversampling, добавляем необходимое количество строк с классом \"отток\" так, чтобы была пропорция классов примерно 1:1**"
   ]
  },
  {
   "cell_type": "code",
   "execution_count": 0,
   "metadata": {
    "colab": {},
    "colab_type": "code",
    "id": "LIgChS6xsEJ0"
   },
   "outputs": [],
   "source": [
    "from sklearn.utils import shuffle\n",
    "\n",
    "def oversampling(data):\n",
    "    dataChurn = data[data['label'] == 1]\n",
    "    dataNoChurn = data[data['label'] == -1]\n",
    "    alpha = (int)(dataNoChurn.shape[0]/dataChurn.shape[0])\n",
    "    dataChurnRet = dataChurn \n",
    "    for i in range(alpha):\n",
    "        dataChurnRet = dataChurnRet.append(dataChurn)\n",
    "    dataNoChurn = dataNoChurn.append(dataChurnRet)\n",
    "    dataNoChurn = shuffle(dataNoChurn)\n",
    "    return dataNoChurn.iloc[:,:230], dataNoChurn.iloc[:,230:]"
   ]
  },
  {
   "cell_type": "markdown",
   "metadata": {
    "colab_type": "text",
    "id": "irjNHKwGsEJ-"
   },
   "source": [
    "**Заменяем все пропуски в датасете на нули:**"
   ]
  },
  {
   "cell_type": "code",
   "execution_count": 0,
   "metadata": {
    "colab": {},
    "colab_type": "code",
    "id": "uWAd3CHWsEKB"
   },
   "outputs": [],
   "source": [
    "train_data = train.fillna(0)"
   ]
  },
  {
   "cell_type": "markdown",
   "metadata": {
    "colab_type": "text",
    "id": "i3lRwuQLsEKI"
   },
   "source": [
    "**Проводим oversampling для того, чтобы сделать пропорцию классов 1:1**"
   ]
  },
  {
   "cell_type": "code",
   "execution_count": 0,
   "metadata": {
    "colab": {},
    "colab_type": "code",
    "id": "HmMYVKPHsEKL"
   },
   "outputs": [],
   "source": [
    "x_data, y_data = oversampling(train_data)"
   ]
  },
  {
   "cell_type": "markdown",
   "metadata": {
    "colab_type": "text",
    "id": "9rj9Pw1xsEKS"
   },
   "source": [
    "**Для преобразования категориальных фич был использован preprocessing.LabelEncoder**"
   ]
  },
  {
   "cell_type": "code",
   "execution_count": 0,
   "metadata": {
    "colab": {},
    "colab_type": "code",
    "id": "fo4Fl_pQsEKT"
   },
   "outputs": [],
   "source": [
    "from sklearn.preprocessing import LabelEncoder\n",
    "\n",
    "def labelEncoder(data):\n",
    "    data = data.fillna(0)\n",
    "    le = LabelEncoder()\n",
    "    for m in range(190,230):\n",
    "        #print(m)\n",
    "        tmp = data.iloc[:,m].astype(str)\n",
    "        le.fit(tmp)\n",
    "        data.iloc[:,m] = le.transform(tmp)        \n",
    "    return data"
   ]
  },
  {
   "cell_type": "code",
   "execution_count": 0,
   "metadata": {
    "colab": {},
    "colab_type": "code",
    "id": "pzN-oCHNsEKb"
   },
   "outputs": [],
   "source": [
    "x_data_le = labelEncoder(x_data)"
   ]
  },
  {
   "cell_type": "markdown",
   "metadata": {
    "colab_type": "text",
    "id": "hRTM9_SPsEKh"
   },
   "source": [
    "**Создам функцию для разделения и оценки**"
   ]
  },
  {
   "cell_type": "code",
   "execution_count": 0,
   "metadata": {
    "colab": {},
    "colab_type": "code",
    "id": "7m9eCvbssEKj"
   },
   "outputs": [],
   "source": [
    "from sklearn.model_selection import StratifiedKFold\n",
    "from sklearn.linear_model import RidgeClassifier\n",
    "from sklearn.model_selection import cross_validate\n",
    "from sklearn.metrics import f1_score, precision_recall_curve, average_precision_score, roc_curve, auc"
   ]
  },
  {
   "cell_type": "markdown",
   "metadata": {
    "colab_type": "text",
    "id": "QEe-zXZjLOED"
   },
   "source": [
    "**RandomForestClassifier**"
   ]
  },
  {
   "cell_type": "code",
   "execution_count": 0,
   "metadata": {
    "colab": {},
    "colab_type": "code",
    "id": "0p2SLp1bLWWe"
   },
   "outputs": [],
   "source": [
    "from sklearn.ensemble import RandomForestClassifier"
   ]
  },
  {
   "cell_type": "code",
   "execution_count": 0,
   "metadata": {
    "colab": {},
    "colab_type": "code",
    "id": "pe8xZwGQNj9m"
   },
   "outputs": [],
   "source": [
    "test = pd.read_csv('/gdrive/My Drive/Colab Notebooks/FINAL_2/DATA/orange_small_churn_test_data.csv')\n"
   ]
  },
  {
   "cell_type": "code",
   "execution_count": 0,
   "metadata": {
    "colab": {},
    "colab_type": "code",
    "id": "5iEgDFTiOt_D"
   },
   "outputs": [],
   "source": [
    "test_data = test.fillna(0)"
   ]
  },
  {
   "cell_type": "code",
   "execution_count": 0,
   "metadata": {
    "colab": {
     "base_uri": "https://localhost:8080/",
     "height": 34
    },
    "colab_type": "code",
    "executionInfo": {
     "elapsed": 828,
     "status": "ok",
     "timestamp": 1582563626727,
     "user": {
      "displayName": "Alexandr G.",
      "photoUrl": "https://lh3.googleusercontent.com/a-/AAuE7mClS9lT7I9GIyE01iu2ZUvoedcXdcleb7j2xhQtNWE=s64",
      "userId": "09466988309861796445"
     },
     "user_tz": -180
    },
    "id": "8S-6rovHGT1q",
    "outputId": "8db93735-c3fa-4a9d-9d98-4880af72290b"
   },
   "outputs": [
    {
     "data": {
      "text/plain": [
       "(10000, 231)"
      ]
     },
     "execution_count": 57,
     "metadata": {
      "tags": []
     },
     "output_type": "execute_result"
    }
   ],
   "source": [
    "test_data.shape"
   ]
  },
  {
   "cell_type": "code",
   "execution_count": 0,
   "metadata": {
    "colab": {},
    "colab_type": "code",
    "id": "zRh3OWyeGqXr"
   },
   "outputs": [],
   "source": [
    "def labelEncoder(data):\n",
    "    data = data.fillna(0)\n",
    "    le = LabelEncoder()\n",
    "    for m in range(191,231):\n",
    "        #print(m)\n",
    "        tmp = data.iloc[:,m].astype(str)\n",
    "        le.fit(tmp)\n",
    "        data.iloc[:,m] = le.transform(tmp)        \n",
    "    return data"
   ]
  },
  {
   "cell_type": "code",
   "execution_count": 0,
   "metadata": {
    "colab": {},
    "colab_type": "code",
    "id": "nIJmTuDvGyKh"
   },
   "outputs": [],
   "source": [
    "x_test_data_le = labelEncoder(test_data)"
   ]
  },
  {
   "cell_type": "code",
   "execution_count": 0,
   "metadata": {
    "colab": {},
    "colab_type": "code",
    "id": "dhjMItSzIIoZ"
   },
   "outputs": [],
   "source": [
    "clf=RandomForestClassifier(n_estimators=100)"
   ]
  },
  {
   "cell_type": "code",
   "execution_count": 0,
   "metadata": {
    "colab": {
     "base_uri": "https://localhost:8080/",
     "height": 156
    },
    "colab_type": "code",
    "executionInfo": {
     "elapsed": 32551,
     "status": "ok",
     "timestamp": 1582564134034,
     "user": {
      "displayName": "Alexandr G.",
      "photoUrl": "https://lh3.googleusercontent.com/a-/AAuE7mClS9lT7I9GIyE01iu2ZUvoedcXdcleb7j2xhQtNWE=s64",
      "userId": "09466988309861796445"
     },
     "user_tz": -180
    },
    "id": "I5C2RIerILll",
    "outputId": "caa1fd66-b143-4b09-d660-bdce621663a5"
   },
   "outputs": [
    {
     "data": {
      "text/plain": [
       "RandomForestClassifier(bootstrap=True, ccp_alpha=0.0, class_weight=None,\n",
       "                       criterion='gini', max_depth=None, max_features='auto',\n",
       "                       max_leaf_nodes=None, max_samples=None,\n",
       "                       min_impurity_decrease=0.0, min_impurity_split=None,\n",
       "                       min_samples_leaf=1, min_samples_split=2,\n",
       "                       min_weight_fraction_leaf=0.0, n_estimators=100,\n",
       "                       n_jobs=None, oob_score=False, random_state=None,\n",
       "                       verbose=0, warm_start=False)"
      ]
     },
     "execution_count": 69,
     "metadata": {
      "tags": []
     },
     "output_type": "execute_result"
    }
   ],
   "source": [
    "clf.fit(x_data_le, y_data.values.ravel())"
   ]
  },
  {
   "cell_type": "code",
   "execution_count": 0,
   "metadata": {
    "colab": {},
    "colab_type": "code",
    "id": "KMBCIJOVL8x_"
   },
   "outputs": [],
   "source": [
    "pred = clf.predict(x_test_data_le.iloc[:, 1:])"
   ]
  },
  {
   "cell_type": "code",
   "execution_count": 0,
   "metadata": {
    "colab": {},
    "colab_type": "code",
    "id": "TY-xkuCTJYzm"
   },
   "outputs": [],
   "source": [
    "idx = x_test_data_le.iloc[:, 0]"
   ]
  },
  {
   "cell_type": "code",
   "execution_count": 0,
   "metadata": {
    "colab": {},
    "colab_type": "code",
    "id": "EoqNtS6OJaAB"
   },
   "outputs": [],
   "source": [
    "df = pd.DataFrame({'ID': idx.values, 'result': pred})\n",
    "df.to_csv('answer1.csv', index = False)"
   ]
  },
  {
   "cell_type": "code",
   "execution_count": 0,
   "metadata": {
    "colab": {},
    "colab_type": "code",
    "id": "9ZX9SihGMNIO"
   },
   "outputs": [],
   "source": [
    "from google.colab import files\n",
    "files.download('answer1.csv')"
   ]
  },
  {
   "cell_type": "markdown",
   "metadata": {
    "colab_type": "text",
    "id": "IKKl5AlyP7vp"
   },
   "source": [
    "**В результате получил только 0,5000**"
   ]
  },
  {
   "cell_type": "code",
   "execution_count": 0,
   "metadata": {
    "colab": {},
    "colab_type": "code",
    "id": "6VAcOTY6MjFF"
   },
   "outputs": [],
   "source": [
    "#попробую еще раз деревья, но без семплинга\n",
    "clf.fit(x_data_le, y_data.values.ravel())"
   ]
  },
  {
   "cell_type": "code",
   "execution_count": 0,
   "metadata": {
    "colab": {},
    "colab_type": "code",
    "id": "WAbeZzxYRzdP"
   },
   "outputs": [],
   "source": [
    "def labelEncoder(data):\n",
    "    data = data.fillna(0)\n",
    "    le = LabelEncoder()\n",
    "    for m in range(190,230):\n",
    "        #print(m)\n",
    "        tmp = data.iloc[:,m].astype(str)\n",
    "        le.fit(tmp)\n",
    "        data.iloc[:,m] = le.transform(tmp)        \n",
    "    return data"
   ]
  },
  {
   "cell_type": "code",
   "execution_count": 0,
   "metadata": {
    "colab": {},
    "colab_type": "code",
    "id": "hfqW2DyNPkzn"
   },
   "outputs": [],
   "source": [
    "x_data_le = labelEncoder(train_data.iloc[:,:230])"
   ]
  },
  {
   "cell_type": "code",
   "execution_count": 0,
   "metadata": {
    "colab": {
     "base_uri": "https://localhost:8080/",
     "height": 156
    },
    "colab_type": "code",
    "executionInfo": {
     "elapsed": 19905,
     "status": "ok",
     "timestamp": 1582566193732,
     "user": {
      "displayName": "Alexandr G.",
      "photoUrl": "https://lh3.googleusercontent.com/a-/AAuE7mClS9lT7I9GIyE01iu2ZUvoedcXdcleb7j2xhQtNWE=s64",
      "userId": "09466988309861796445"
     },
     "user_tz": -180
    },
    "id": "z_g_qiN5RZe0",
    "outputId": "9d8c06d6-3ae2-4b99-bc6e-b2c7052d4624"
   },
   "outputs": [
    {
     "data": {
      "text/plain": [
       "RandomForestClassifier(bootstrap=True, ccp_alpha=0.0, class_weight=None,\n",
       "                       criterion='gini', max_depth=None, max_features='auto',\n",
       "                       max_leaf_nodes=None, max_samples=None,\n",
       "                       min_impurity_decrease=0.0, min_impurity_split=None,\n",
       "                       min_samples_leaf=1, min_samples_split=2,\n",
       "                       min_weight_fraction_leaf=0.0, n_estimators=100,\n",
       "                       n_jobs=None, oob_score=False, random_state=None,\n",
       "                       verbose=0, warm_start=False)"
      ]
     },
     "execution_count": 108,
     "metadata": {
      "tags": []
     },
     "output_type": "execute_result"
    }
   ],
   "source": [
    "clf.fit(x_data_le, train_data['label'])"
   ]
  },
  {
   "cell_type": "code",
   "execution_count": 0,
   "metadata": {
    "colab": {},
    "colab_type": "code",
    "id": "LauPgivHRcdg"
   },
   "outputs": [],
   "source": [
    "pred = clf.predict(x_test_data_le.iloc[:, 1:])\n",
    "idx = x_test_data_le.iloc[:, 0]\n",
    "df = pd.DataFra0.50137me({'ID': idx.values, 'result': pred})\n",
    "df.to_csv('answer2.csv', index = False)\n",
    "from google.colab import files\n",
    "files.download('answer2.csv')"
   ]
  },
  {
   "cell_type": "markdown",
   "metadata": {
    "colab_type": "text",
    "id": "rwYTjLfrTcm6"
   },
   "source": [
    "**не изменилось - те же 0,5000**"
   ]
  },
  {
   "cell_type": "code",
   "execution_count": 0,
   "metadata": {
    "colab": {},
    "colab_type": "code",
    "id": "dqsUktp1Ti5K"
   },
   "outputs": [],
   "source": [
    "# проведем испытания XGBoost\n",
    "import xgboost as xgb\n",
    "from sklearn.model_selection import cross_val_score, GridSearchCV, KFold, RandomizedSearchCV\n",
    "from sklearn.metrics import auc, accuracy_score, confusion_matrix, mean_squared_error\n",
    "from scipy.stats import uniform, randint\n",
    "from xgboost import XGBClassifier\n",
    "import time"
   ]
  },
  {
   "cell_type": "code",
   "execution_count": 0,
   "metadata": {
    "colab": {},
    "colab_type": "code",
    "id": "XmUX8LMscW6Y"
   },
   "outputs": [],
   "source": [
    "x_train = x_data_le\n",
    "y_train = train_data['label']"
   ]
  },
  {
   "cell_type": "code",
   "execution_count": 0,
   "metadata": {
    "colab": {
     "base_uri": "https://localhost:8080/",
     "height": 139
    },
    "colab_type": "code",
    "executionInfo": {
     "elapsed": 762,
     "status": "ok",
     "timestamp": 1582571080933,
     "user": {
      "displayName": "Alexandr G.",
      "photoUrl": "https://lh3.googleusercontent.com/a-/AAuE7mClS9lT7I9GIyE01iu2ZUvoedcXdcleb7j2xhQtNWE=s64",
      "userId": "09466988309861796445"
     },
     "user_tz": -180
    },
    "id": "3oiUax54ljwr",
    "outputId": "c3bf3c7e-d557-4266-f5b7-b206707f9596"
   },
   "outputs": [
    {
     "data": {
      "text/plain": [
       "XGBClassifier(base_score=0.5, booster='gbtree', colsample_bylevel=1,\n",
       "              colsample_bynode=1, colsample_bytree=1, gamma=0,\n",
       "              learning_rate=0.1, max_delta_step=0, max_depth=3,\n",
       "              min_child_weight=1, missing=None, n_estimators=100, n_jobs=1,\n",
       "              nthread=None, objective='binary:logistic', random_state=0,\n",
       "              reg_alpha=0, reg_lambda=1, scale_pos_weight=1, seed=None,\n",
       "              silent=None, subsample=1, verbosity=1)"
      ]
     },
     "execution_count": 148,
     "metadata": {
      "tags": []
     },
     "output_type": "execute_result"
    }
   ],
   "source": [
    "clf = XGBClassifier()"
   ]
  },
  {
   "cell_type": "code",
   "execution_count": 0,
   "metadata": {
    "colab": {},
    "colab_type": "code",
    "id": "04n4f6aKd8SM"
   },
   "outputs": [],
   "source": [
    "param_grid = {\n",
    "        'silent': [False],\n",
    "        'max_depth': [6, 10, 15, 20],\n",
    "        'learning_rate': [0.001, 0.01, 0.1, 0.2, 0,3],\n",
    "        'subsample': [0.5, 0.6, 0.7, 0.8, 0.9, 1.0],\n",
    "        'colsample_bytree': [0.4, 0.5, 0.6, 0.7, 0.8, 0.9, 1.0],\n",
    "        'colsample_bylevel': [0.4, 0.5, 0.6, 0.7, 0.8, 0.9, 1.0],\n",
    "        'min_child_weight': [0.5, 1.0, 3.0, 5.0, 7.0, 10.0],\n",
    "        'gamma': [0, 0.25, 0.5, 1.0],\n",
    "        'reg_lambda': [0.1, 1.0, 5.0, 10.0, 50.0, 100.0],\n",
    "        'n_estimators': [100]}"
   ]
  },
  {
   "cell_type": "code",
   "execution_count": 0,
   "metadata": {
    "colab": {
     "base_uri": "https://localhost:8080/",
     "height": 1000
    },
    "colab_type": "code",
    "executionInfo": {
     "elapsed": 867803,
     "status": "ok",
     "timestamp": 1582570645254,
     "user": {
      "displayName": "Alexandr G.",
      "photoUrl": "https://lh3.googleusercontent.com/a-/AAuE7mClS9lT7I9GIyE01iu2ZUvoedcXdcleb7j2xhQtNWE=s64",
      "userId": "09466988309861796445"
     },
     "user_tz": -180
    },
    "id": "-nd3cqFbcHFP",
    "outputId": "7c72a3d9-2ca7-4a66-e005-ad2bd61b0533"
   },
   "outputs": [
    {
     "name": "stdout",
     "output_type": "stream",
     "text": [
      "Randomized search..\n",
      "Fitting 2 folds for each of 20 candidates, totalling 40 fits\n",
      "[CV] subsample=0.7, silent=False, reg_lambda=50.0, n_estimators=100, min_child_weight=5.0, max_depth=6, learning_rate=0.2, gamma=1.0, colsample_bytree=0.9, colsample_bylevel=0.4 \n"
     ]
    },
    {
     "name": "stderr",
     "output_type": "stream",
     "text": [
      "[Parallel(n_jobs=1)]: Using backend SequentialBackend with 1 concurrent workers.\n"
     ]
    },
    {
     "name": "stdout",
     "output_type": "stream",
     "text": [
      "[CV]  subsample=0.7, silent=False, reg_lambda=50.0, n_estimators=100, min_child_weight=5.0, max_depth=6, learning_rate=0.2, gamma=1.0, colsample_bytree=0.9, colsample_bylevel=0.4, total=  12.2s\n",
      "[CV] subsample=0.7, silent=False, reg_lambda=50.0, n_estimators=100, min_child_weight=5.0, max_depth=6, learning_rate=0.2, gamma=1.0, colsample_bytree=0.9, colsample_bylevel=0.4 \n"
     ]
    },
    {
     "name": "stderr",
     "output_type": "stream",
     "text": [
      "[Parallel(n_jobs=1)]: Done   1 out of   1 | elapsed:   12.2s remaining:    0.0s\n"
     ]
    },
    {
     "name": "stdout",
     "output_type": "stream",
     "text": [
      "[CV]  subsample=0.7, silent=False, reg_lambda=50.0, n_estimators=100, min_child_weight=5.0, max_depth=6, learning_rate=0.2, gamma=1.0, colsample_bytree=0.9, colsample_bylevel=0.4, total=  12.1s\n",
      "[CV] subsample=0.6, silent=False, reg_lambda=1.0, n_estimators=100, min_child_weight=1.0, max_depth=20, learning_rate=0.1, gamma=0.25, colsample_bytree=0.8, colsample_bylevel=0.8 \n",
      "[CV]  subsample=0.6, silent=False, reg_lambda=1.0, n_estimators=100, min_child_weight=1.0, max_depth=20, learning_rate=0.1, gamma=0.25, colsample_bytree=0.8, colsample_bylevel=0.8, total=  54.4s\n",
      "[CV] subsample=0.6, silent=False, reg_lambda=1.0, n_estimators=100, min_child_weight=1.0, max_depth=20, learning_rate=0.1, gamma=0.25, colsample_bytree=0.8, colsample_bylevel=0.8 \n",
      "[CV]  subsample=0.6, silent=False, reg_lambda=1.0, n_estimators=100, min_child_weight=1.0, max_depth=20, learning_rate=0.1, gamma=0.25, colsample_bytree=0.8, colsample_bylevel=0.8, total=  53.8s\n",
      "[CV] subsample=0.9, silent=False, reg_lambda=50.0, n_estimators=100, min_child_weight=7.0, max_depth=15, learning_rate=0.1, gamma=0.25, colsample_bytree=1.0, colsample_bylevel=0.4 \n",
      "[CV]  subsample=0.9, silent=False, reg_lambda=50.0, n_estimators=100, min_child_weight=7.0, max_depth=15, learning_rate=0.1, gamma=0.25, colsample_bytree=1.0, colsample_bylevel=0.4, total=  21.6s\n",
      "[CV] subsample=0.9, silent=False, reg_lambda=50.0, n_estimators=100, min_child_weight=7.0, max_depth=15, learning_rate=0.1, gamma=0.25, colsample_bytree=1.0, colsample_bylevel=0.4 \n",
      "[CV]  subsample=0.9, silent=False, reg_lambda=50.0, n_estimators=100, min_child_weight=7.0, max_depth=15, learning_rate=0.1, gamma=0.25, colsample_bytree=1.0, colsample_bylevel=0.4, total=  21.6s\n",
      "[CV] subsample=0.5, silent=False, reg_lambda=1.0, n_estimators=100, min_child_weight=7.0, max_depth=10, learning_rate=0.2, gamma=0.5, colsample_bytree=0.7, colsample_bylevel=0.6 \n",
      "[CV]  subsample=0.5, silent=False, reg_lambda=1.0, n_estimators=100, min_child_weight=7.0, max_depth=10, learning_rate=0.2, gamma=0.5, colsample_bytree=0.7, colsample_bylevel=0.6, total=  20.6s\n",
      "[CV] subsample=0.5, silent=False, reg_lambda=1.0, n_estimators=100, min_child_weight=7.0, max_depth=10, learning_rate=0.2, gamma=0.5, colsample_bytree=0.7, colsample_bylevel=0.6 \n",
      "[CV]  subsample=0.5, silent=False, reg_lambda=1.0, n_estimators=100, min_child_weight=7.0, max_depth=10, learning_rate=0.2, gamma=0.5, colsample_bytree=0.7, colsample_bylevel=0.6, total=  20.6s\n",
      "[CV] subsample=0.7, silent=False, reg_lambda=5.0, n_estimators=100, min_child_weight=10.0, max_depth=20, learning_rate=3, gamma=0.25, colsample_bytree=0.9, colsample_bylevel=0.5 \n",
      "[CV]  subsample=0.7, silent=False, reg_lambda=5.0, n_estimators=100, min_child_weight=10.0, max_depth=20, learning_rate=3, gamma=0.25, colsample_bytree=0.9, colsample_bylevel=0.5, total=   4.6s\n",
      "[CV] subsample=0.7, silent=False, reg_lambda=5.0, n_estimators=100, min_child_weight=10.0, max_depth=20, learning_rate=3, gamma=0.25, colsample_bytree=0.9, colsample_bylevel=0.5 \n",
      "[CV]  subsample=0.7, silent=False, reg_lambda=5.0, n_estimators=100, min_child_weight=10.0, max_depth=20, learning_rate=3, gamma=0.25, colsample_bytree=0.9, colsample_bylevel=0.5, total=   4.5s\n",
      "[CV] subsample=0.6, silent=False, reg_lambda=10.0, n_estimators=100, min_child_weight=1.0, max_depth=15, learning_rate=0.01, gamma=0, colsample_bytree=0.7, colsample_bylevel=0.8 \n",
      "[CV]  subsample=0.6, silent=False, reg_lambda=10.0, n_estimators=100, min_child_weight=1.0, max_depth=15, learning_rate=0.01, gamma=0, colsample_bytree=0.7, colsample_bylevel=0.8, total=  32.1s\n",
      "[CV] subsample=0.6, silent=False, reg_lambda=10.0, n_estimators=100, min_child_weight=1.0, max_depth=15, learning_rate=0.01, gamma=0, colsample_bytree=0.7, colsample_bylevel=0.8 \n",
      "[CV]  subsample=0.6, silent=False, reg_lambda=10.0, n_estimators=100, min_child_weight=1.0, max_depth=15, learning_rate=0.01, gamma=0, colsample_bytree=0.7, colsample_bylevel=0.8, total=  32.9s\n",
      "[CV] subsample=0.5, silent=False, reg_lambda=0.1, n_estimators=100, min_child_weight=5.0, max_depth=15, learning_rate=0.01, gamma=0.25, colsample_bytree=0.9, colsample_bylevel=0.4 \n",
      "[CV]  subsample=0.5, silent=False, reg_lambda=0.1, n_estimators=100, min_child_weight=5.0, max_depth=15, learning_rate=0.01, gamma=0.25, colsample_bytree=0.9, colsample_bylevel=0.4, total=  26.3s\n",
      "[CV] subsample=0.5, silent=False, reg_lambda=0.1, n_estimators=100, min_child_weight=5.0, max_depth=15, learning_rate=0.01, gamma=0.25, colsample_bytree=0.9, colsample_bylevel=0.4 \n",
      "[CV]  subsample=0.5, silent=False, reg_lambda=0.1, n_estimators=100, min_child_weight=5.0, max_depth=15, learning_rate=0.01, gamma=0.25, colsample_bytree=0.9, colsample_bylevel=0.4, total=  26.5s\n",
      "[CV] subsample=0.5, silent=False, reg_lambda=5.0, n_estimators=100, min_child_weight=7.0, max_depth=10, learning_rate=0.01, gamma=0.25, colsample_bytree=0.4, colsample_bylevel=0.9 \n",
      "[CV]  subsample=0.5, silent=False, reg_lambda=5.0, n_estimators=100, min_child_weight=7.0, max_depth=10, learning_rate=0.01, gamma=0.25, colsample_bytree=0.4, colsample_bylevel=0.9, total=  12.0s\n",
      "[CV] subsample=0.5, silent=False, reg_lambda=5.0, n_estimators=100, min_child_weight=7.0, max_depth=10, learning_rate=0.01, gamma=0.25, colsample_bytree=0.4, colsample_bylevel=0.9 \n",
      "[CV]  subsample=0.5, silent=False, reg_lambda=5.0, n_estimators=100, min_child_weight=7.0, max_depth=10, learning_rate=0.01, gamma=0.25, colsample_bytree=0.4, colsample_bylevel=0.9, total=  12.7s\n",
      "[CV] subsample=0.9, silent=False, reg_lambda=10.0, n_estimators=100, min_child_weight=0.5, max_depth=15, learning_rate=0.2, gamma=0.5, colsample_bytree=0.6, colsample_bylevel=0.4 \n",
      "[CV]  subsample=0.9, silent=False, reg_lambda=10.0, n_estimators=100, min_child_weight=0.5, max_depth=15, learning_rate=0.2, gamma=0.5, colsample_bytree=0.6, colsample_bylevel=0.4, total=  20.6s\n",
      "[CV] subsample=0.9, silent=False, reg_lambda=10.0, n_estimators=100, min_child_weight=0.5, max_depth=15, learning_rate=0.2, gamma=0.5, colsample_bytree=0.6, colsample_bylevel=0.4 \n",
      "[CV]  subsample=0.9, silent=False, reg_lambda=10.0, n_estimators=100, min_child_weight=0.5, max_depth=15, learning_rate=0.2, gamma=0.5, colsample_bytree=0.6, colsample_bylevel=0.4, total=  20.4s\n",
      "[CV] subsample=0.8, silent=False, reg_lambda=100.0, n_estimators=100, min_child_weight=7.0, max_depth=20, learning_rate=0.1, gamma=0.5, colsample_bytree=1.0, colsample_bylevel=0.4 \n",
      "[CV]  subsample=0.8, silent=False, reg_lambda=100.0, n_estimators=100, min_child_weight=7.0, max_depth=20, learning_rate=0.1, gamma=0.5, colsample_bytree=1.0, colsample_bylevel=0.4, total=  21.6s\n",
      "[CV] subsample=0.8, silent=False, reg_lambda=100.0, n_estimators=100, min_child_weight=7.0, max_depth=20, learning_rate=0.1, gamma=0.5, colsample_bytree=1.0, colsample_bylevel=0.4 \n",
      "[CV]  subsample=0.8, silent=False, reg_lambda=100.0, n_estimators=100, min_child_weight=7.0, max_depth=20, learning_rate=0.1, gamma=0.5, colsample_bytree=1.0, colsample_bylevel=0.4, total=  21.5s\n",
      "[CV] subsample=0.7, silent=False, reg_lambda=50.0, n_estimators=100, min_child_weight=0.5, max_depth=10, learning_rate=3, gamma=0, colsample_bytree=1.0, colsample_bylevel=1.0 \n"
     ]
    },
    {
     "name": "stderr",
     "output_type": "stream",
     "text": [
      "/usr/local/lib/python3.6/dist-packages/sklearn/metrics/_classification.py:2295: RuntimeWarning: divide by zero encountered in log\n",
      "  loss = -(transformed_labels * np.log(y_pred)).sum(axis=1)\n",
      "/usr/local/lib/python3.6/dist-packages/sklearn/metrics/_classification.py:2295: RuntimeWarning: invalid value encountered in multiply\n",
      "  loss = -(transformed_labels * np.log(y_pred)).sum(axis=1)\n"
     ]
    },
    {
     "name": "stdout",
     "output_type": "stream",
     "text": [
      "[CV]  subsample=0.7, silent=False, reg_lambda=50.0, n_estimators=100, min_child_weight=0.5, max_depth=10, learning_rate=3, gamma=0, colsample_bytree=1.0, colsample_bylevel=1.0, total=  37.8s\n",
      "[CV] subsample=0.7, silent=False, reg_lambda=50.0, n_estimators=100, min_child_weight=0.5, max_depth=10, learning_rate=3, gamma=0, colsample_bytree=1.0, colsample_bylevel=1.0 \n"
     ]
    },
    {
     "name": "stderr",
     "output_type": "stream",
     "text": [
      "/usr/local/lib/python3.6/dist-packages/sklearn/metrics/_classification.py:2295: RuntimeWarning: divide by zero encountered in log\n",
      "  loss = -(transformed_labels * np.log(y_pred)).sum(axis=1)\n",
      "/usr/local/lib/python3.6/dist-packages/sklearn/metrics/_classification.py:2295: RuntimeWarning: invalid value encountered in multiply\n",
      "  loss = -(transformed_labels * np.log(y_pred)).sum(axis=1)\n"
     ]
    },
    {
     "name": "stdout",
     "output_type": "stream",
     "text": [
      "[CV]  subsample=0.7, silent=False, reg_lambda=50.0, n_estimators=100, min_child_weight=0.5, max_depth=10, learning_rate=3, gamma=0, colsample_bytree=1.0, colsample_bylevel=1.0, total=  37.0s\n",
      "[CV] subsample=0.5, silent=False, reg_lambda=1.0, n_estimators=100, min_child_weight=0.5, max_depth=15, learning_rate=0.2, gamma=0, colsample_bytree=0.8, colsample_bylevel=0.7 \n",
      "[CV]  subsample=0.5, silent=False, reg_lambda=1.0, n_estimators=100, min_child_weight=0.5, max_depth=15, learning_rate=0.2, gamma=0, colsample_bytree=0.8, colsample_bylevel=0.7, total=  38.4s\n",
      "[CV] subsample=0.5, silent=False, reg_lambda=1.0, n_estimators=100, min_child_weight=0.5, max_depth=15, learning_rate=0.2, gamma=0, colsample_bytree=0.8, colsample_bylevel=0.7 \n",
      "[CV]  subsample=0.5, silent=False, reg_lambda=1.0, n_estimators=100, min_child_weight=0.5, max_depth=15, learning_rate=0.2, gamma=0, colsample_bytree=0.8, colsample_bylevel=0.7, total=  38.5s\n",
      "[CV] subsample=0.7, silent=False, reg_lambda=5.0, n_estimators=100, min_child_weight=10.0, max_depth=20, learning_rate=0.001, gamma=0, colsample_bytree=0.8, colsample_bylevel=1.0 \n",
      "[CV]  subsample=0.7, silent=False, reg_lambda=5.0, n_estimators=100, min_child_weight=10.0, max_depth=20, learning_rate=0.001, gamma=0, colsample_bytree=0.8, colsample_bylevel=1.0, total=  24.3s\n",
      "[CV] subsample=0.7, silent=False, reg_lambda=5.0, n_estimators=100, min_child_weight=10.0, max_depth=20, learning_rate=0.001, gamma=0, colsample_bytree=0.8, colsample_bylevel=1.0 \n",
      "[CV]  subsample=0.7, silent=False, reg_lambda=5.0, n_estimators=100, min_child_weight=10.0, max_depth=20, learning_rate=0.001, gamma=0, colsample_bytree=0.8, colsample_bylevel=1.0, total=  24.4s\n",
      "[CV] subsample=0.5, silent=False, reg_lambda=10.0, n_estimators=100, min_child_weight=0.5, max_depth=10, learning_rate=3, gamma=0, colsample_bytree=0.8, colsample_bylevel=0.4 \n"
     ]
    },
    {
     "name": "stderr",
     "output_type": "stream",
     "text": [
      "/usr/local/lib/python3.6/dist-packages/sklearn/metrics/_classification.py:2295: RuntimeWarning: divide by zero encountered in log\n",
      "  loss = -(transformed_labels * np.log(y_pred)).sum(axis=1)\n",
      "/usr/local/lib/python3.6/dist-packages/sklearn/metrics/_classification.py:2295: RuntimeWarning: invalid value encountered in multiply\n",
      "  loss = -(transformed_labels * np.log(y_pred)).sum(axis=1)\n"
     ]
    },
    {
     "name": "stdout",
     "output_type": "stream",
     "text": [
      "[CV]  subsample=0.5, silent=False, reg_lambda=10.0, n_estimators=100, min_child_weight=0.5, max_depth=10, learning_rate=3, gamma=0, colsample_bytree=0.8, colsample_bylevel=0.4, total=  12.3s\n",
      "[CV] subsample=0.5, silent=False, reg_lambda=10.0, n_estimators=100, min_child_weight=0.5, max_depth=10, learning_rate=3, gamma=0, colsample_bytree=0.8, colsample_bylevel=0.4 \n"
     ]
    },
    {
     "name": "stderr",
     "output_type": "stream",
     "text": [
      "/usr/local/lib/python3.6/dist-packages/sklearn/metrics/_classification.py:2295: RuntimeWarning: divide by zero encountered in log\n",
      "  loss = -(transformed_labels * np.log(y_pred)).sum(axis=1)\n",
      "/usr/local/lib/python3.6/dist-packages/sklearn/metrics/_classification.py:2295: RuntimeWarning: invalid value encountered in multiply\n",
      "  loss = -(transformed_labels * np.log(y_pred)).sum(axis=1)\n"
     ]
    },
    {
     "name": "stdout",
     "output_type": "stream",
     "text": [
      "[CV]  subsample=0.5, silent=False, reg_lambda=10.0, n_estimators=100, min_child_weight=0.5, max_depth=10, learning_rate=3, gamma=0, colsample_bytree=0.8, colsample_bylevel=0.4, total=  13.2s\n",
      "[CV] subsample=1.0, silent=False, reg_lambda=10.0, n_estimators=100, min_child_weight=7.0, max_depth=15, learning_rate=0.1, gamma=0.25, colsample_bytree=0.5, colsample_bylevel=1.0 \n",
      "[CV]  subsample=1.0, silent=False, reg_lambda=10.0, n_estimators=100, min_child_weight=7.0, max_depth=15, learning_rate=0.1, gamma=0.25, colsample_bytree=0.5, colsample_bylevel=1.0, total=  28.5s\n",
      "[CV] subsample=1.0, silent=False, reg_lambda=10.0, n_estimators=100, min_child_weight=7.0, max_depth=15, learning_rate=0.1, gamma=0.25, colsample_bytree=0.5, colsample_bylevel=1.0 \n",
      "[CV]  subsample=1.0, silent=False, reg_lambda=10.0, n_estimators=100, min_child_weight=7.0, max_depth=15, learning_rate=0.1, gamma=0.25, colsample_bytree=0.5, colsample_bylevel=1.0, total=  28.1s\n",
      "[CV] subsample=0.5, silent=False, reg_lambda=5.0, n_estimators=100, min_child_weight=7.0, max_depth=10, learning_rate=0.001, gamma=0, colsample_bytree=0.6, colsample_bylevel=1.0 \n",
      "[CV]  subsample=0.5, silent=False, reg_lambda=5.0, n_estimators=100, min_child_weight=7.0, max_depth=10, learning_rate=0.001, gamma=0, colsample_bytree=0.6, colsample_bylevel=1.0, total=  15.4s\n",
      "[CV] subsample=0.5, silent=False, reg_lambda=5.0, n_estimators=100, min_child_weight=7.0, max_depth=10, learning_rate=0.001, gamma=0, colsample_bytree=0.6, colsample_bylevel=1.0 \n",
      "[CV]  subsample=0.5, silent=False, reg_lambda=5.0, n_estimators=100, min_child_weight=7.0, max_depth=10, learning_rate=0.001, gamma=0, colsample_bytree=0.6, colsample_bylevel=1.0, total=  15.4s\n",
      "[CV] subsample=0.8, silent=False, reg_lambda=50.0, n_estimators=100, min_child_weight=0.5, max_depth=20, learning_rate=0, gamma=0.25, colsample_bytree=0.5, colsample_bylevel=0.5 \n",
      "[CV]  subsample=0.8, silent=False, reg_lambda=50.0, n_estimators=100, min_child_weight=0.5, max_depth=20, learning_rate=0, gamma=0.25, colsample_bytree=0.5, colsample_bylevel=0.5, total=  10.3s\n",
      "[CV] subsample=0.8, silent=False, reg_lambda=50.0, n_estimators=100, min_child_weight=0.5, max_depth=20, learning_rate=0, gamma=0.25, colsample_bytree=0.5, colsample_bylevel=0.5 \n",
      "[CV]  subsample=0.8, silent=False, reg_lambda=50.0, n_estimators=100, min_child_weight=0.5, max_depth=20, learning_rate=0, gamma=0.25, colsample_bytree=0.5, colsample_bylevel=0.5, total=  11.2s\n",
      "[CV] subsample=0.6, silent=False, reg_lambda=100.0, n_estimators=100, min_child_weight=7.0, max_depth=10, learning_rate=3, gamma=0, colsample_bytree=0.6, colsample_bylevel=0.5 \n"
     ]
    },
    {
     "name": "stderr",
     "output_type": "stream",
     "text": [
      "/usr/local/lib/python3.6/dist-packages/sklearn/metrics/_classification.py:2295: RuntimeWarning: divide by zero encountered in log\n",
      "  loss = -(transformed_labels * np.log(y_pred)).sum(axis=1)\n",
      "/usr/local/lib/python3.6/dist-packages/sklearn/metrics/_classification.py:2295: RuntimeWarning: invalid value encountered in multiply\n",
      "  loss = -(transformed_labels * np.log(y_pred)).sum(axis=1)\n"
     ]
    },
    {
     "name": "stdout",
     "output_type": "stream",
     "text": [
      "[CV]  subsample=0.6, silent=False, reg_lambda=100.0, n_estimators=100, min_child_weight=7.0, max_depth=10, learning_rate=3, gamma=0, colsample_bytree=0.6, colsample_bylevel=0.5, total=   4.8s\n",
      "[CV] subsample=0.6, silent=False, reg_lambda=100.0, n_estimators=100, min_child_weight=7.0, max_depth=10, learning_rate=3, gamma=0, colsample_bytree=0.6, colsample_bylevel=0.5 \n"
     ]
    },
    {
     "name": "stderr",
     "output_type": "stream",
     "text": [
      "/usr/local/lib/python3.6/dist-packages/sklearn/metrics/_classification.py:2295: RuntimeWarning: divide by zero encountered in log\n",
      "  loss = -(transformed_labels * np.log(y_pred)).sum(axis=1)\n",
      "/usr/local/lib/python3.6/dist-packages/sklearn/metrics/_classification.py:2295: RuntimeWarning: invalid value encountered in multiply\n",
      "  loss = -(transformed_labels * np.log(y_pred)).sum(axis=1)\n"
     ]
    },
    {
     "name": "stdout",
     "output_type": "stream",
     "text": [
      "[CV]  subsample=0.6, silent=False, reg_lambda=100.0, n_estimators=100, min_child_weight=7.0, max_depth=10, learning_rate=3, gamma=0, colsample_bytree=0.6, colsample_bylevel=0.5, total=   9.2s\n",
      "[CV] subsample=0.6, silent=False, reg_lambda=100.0, n_estimators=100, min_child_weight=7.0, max_depth=20, learning_rate=0.2, gamma=0.25, colsample_bytree=1.0, colsample_bylevel=0.5 \n",
      "[CV]  subsample=0.6, silent=False, reg_lambda=100.0, n_estimators=100, min_child_weight=7.0, max_depth=20, learning_rate=0.2, gamma=0.25, colsample_bytree=1.0, colsample_bylevel=0.5, total=  25.6s\n",
      "[CV] subsample=0.6, silent=False, reg_lambda=100.0, n_estimators=100, min_child_weight=7.0, max_depth=20, learning_rate=0.2, gamma=0.25, colsample_bytree=1.0, colsample_bylevel=0.5 \n",
      "[CV]  subsample=0.6, silent=False, reg_lambda=100.0, n_estimators=100, min_child_weight=7.0, max_depth=20, learning_rate=0.2, gamma=0.25, colsample_bytree=1.0, colsample_bylevel=0.5, total=  26.1s\n",
      "[CV] subsample=0.7, silent=False, reg_lambda=5.0, n_estimators=100, min_child_weight=1.0, max_depth=15, learning_rate=3, gamma=1.0, colsample_bytree=0.5, colsample_bylevel=0.4 \n"
     ]
    },
    {
     "name": "stderr",
     "output_type": "stream",
     "text": [
      "/usr/local/lib/python3.6/dist-packages/sklearn/metrics/_classification.py:2295: RuntimeWarning: divide by zero encountered in log\n",
      "  loss = -(transformed_labels * np.log(y_pred)).sum(axis=1)\n",
      "/usr/local/lib/python3.6/dist-packages/sklearn/metrics/_classification.py:2295: RuntimeWarning: invalid value encountered in multiply\n",
      "  loss = -(transformed_labels * np.log(y_pred)).sum(axis=1)\n"
     ]
    },
    {
     "name": "stdout",
     "output_type": "stream",
     "text": [
      "[CV]  subsample=0.7, silent=False, reg_lambda=5.0, n_estimators=100, min_child_weight=1.0, max_depth=15, learning_rate=3, gamma=1.0, colsample_bytree=0.5, colsample_bylevel=0.4, total=   7.8s\n",
      "[CV] subsample=0.7, silent=False, reg_lambda=5.0, n_estimators=100, min_child_weight=1.0, max_depth=15, learning_rate=3, gamma=1.0, colsample_bytree=0.5, colsample_bylevel=0.4 \n",
      "[CV]  subsample=0.7, silent=False, reg_lambda=5.0, n_estimators=100, min_child_weight=1.0, max_depth=15, learning_rate=3, gamma=1.0, colsample_bytree=0.5, colsample_bylevel=0.4, total=   6.2s\n",
      "Randomized search time: 867.0530691146851\n",
      "Best score: -0.2406829303286737\n",
      "Best params: \n",
      "colsample_bylevel: 0.4\n",
      "colsample_bytree: 1.0\n",
      "gamma: 0.5\n",
      "learning_rate: 0.1\n",
      "max_depth: 20\n",
      "min_child_weight: 7.0\n",
      "n_estimators: 100\n",
      "reg_lambda: 100.0\n",
      "silent: False\n",
      "subsample: 0.8\n"
     ]
    },
    {
     "name": "stderr",
     "output_type": "stream",
     "text": [
      "/usr/local/lib/python3.6/dist-packages/sklearn/metrics/_classification.py:2295: RuntimeWarning: divide by zero encountered in log\n",
      "  loss = -(transformed_labels * np.log(y_pred)).sum(axis=1)\n",
      "/usr/local/lib/python3.6/dist-packages/sklearn/metrics/_classification.py:2295: RuntimeWarning: invalid value encountered in multiply\n",
      "  loss = -(transformed_labels * np.log(y_pred)).sum(axis=1)\n",
      "[Parallel(n_jobs=1)]: Done  40 out of  40 | elapsed: 14.5min finished\n"
     ]
    }
   ],
   "source": [
    "rs_clf = RandomizedSearchCV(clf, param_grid, n_iter=20,\n",
    "                            n_jobs=1, verbose=2, cv=2,\n",
    "                            scoring='neg_log_loss', refit=False, random_state=42)\n",
    "print(\"Randomized search..\")\n",
    "search_time_start = time.time()\n",
    "rs_clf.fit(x_train, y_train)\n",
    "print(\"Randomized search time:\", time.time() - search_time_start)\n",
    "\n",
    "best_score = rs_clf.best_score_\n",
    "best_params = rs_clf.best_params_\n",
    "print(\"Best score: {}\".format(best_score))\n",
    "print(\"Best params: \")\n",
    "for param_name in sorted(best_params.keys()):\n",
    "    print('%s: %r' % (param_name, best_params[param_name]))"
   ]
  },
  {
   "cell_type": "code",
   "execution_count": 0,
   "metadata": {
    "colab": {},
    "colab_type": "code",
    "id": "MobfuK9JXrXz"
   },
   "outputs": [],
   "source": [
    "clf_best = XGBClassifier(colsample_bylevel=0.4, colsample_bytree=1.0, gamma = 0.5, learning_rate=0.1, max_depth=20, min_child_weight=7.0, n_estimators=100,\n",
    "                         reg_lambda=100.0, silent=False, subsample=0.8)"
   ]
  },
  {
   "cell_type": "code",
   "execution_count": 0,
   "metadata": {
    "colab": {
     "base_uri": "https://localhost:8080/",
     "height": 139
    },
    "colab_type": "code",
    "executionInfo": {
     "elapsed": 51827,
     "status": "ok",
     "timestamp": 1582571499660,
     "user": {
      "displayName": "Alexandr G.",
      "photoUrl": "https://lh3.googleusercontent.com/a-/AAuE7mClS9lT7I9GIyE01iu2ZUvoedcXdcleb7j2xhQtNWE=s64",
      "userId": "09466988309861796445"
     },
     "user_tz": -180
    },
    "id": "2kqZzY9qmahC",
    "outputId": "5d037500-4df1-490b-a1cf-7932754308be"
   },
   "outputs": [
    {
     "data": {
      "text/plain": [
       "XGBClassifier(base_score=0.5, booster='gbtree', colsample_bylevel=0.4,\n",
       "              colsample_bynode=1, colsample_bytree=1.0, gamma=0.5,\n",
       "              learning_rate=0.1, max_delta_step=0, max_depth=20,\n",
       "              min_child_weight=7.0, missing=None, n_estimators=100, n_jobs=1,\n",
       "              nthread=None, objective='binary:logistic', random_state=0,\n",
       "              reg_alpha=0, reg_lambda=100.0, scale_pos_weight=1, seed=None,\n",
       "              silent=False, subsample=0.8, verbosity=1)"
      ]
     },
     "execution_count": 152,
     "metadata": {
      "tags": []
     },
     "output_type": "execute_result"
    }
   ],
   "source": [
    "clf_best.fit(x_train, y_train)"
   ]
  },
  {
   "cell_type": "code",
   "execution_count": 0,
   "metadata": {
    "colab": {},
    "colab_type": "code",
    "id": "6TvVVK1im-VH"
   },
   "outputs": [],
   "source": [
    "pred = clf_best.predict(x_test_data_le.iloc[:, 1:])"
   ]
  },
  {
   "cell_type": "code",
   "execution_count": 0,
   "metadata": {
    "colab": {},
    "colab_type": "code",
    "id": "EJUNllUUnZIB"
   },
   "outputs": [],
   "source": [
    "idx = x_test_data_le.iloc[:, 0]\n",
    "df = pd.DataFrame({'ID': idx.values, 'result': pred})\n",
    "df.to_csv('answer3.csv', index = False)\n",
    "from google.colab import files\n",
    "files.download('answer3.csv')"
   ]
  },
  {
   "cell_type": "markdown",
   "metadata": {
    "colab_type": "text",
    "id": "ZbwgB6r_nyJ9"
   },
   "source": [
    "**0.50137**"
   ]
  },
  {
   "cell_type": "code",
   "execution_count": 0,
   "metadata": {
    "colab": {},
    "colab_type": "code",
    "id": "T2arNdeBnfiH"
   },
   "outputs": [],
   "source": []
  }
 ],
 "metadata": {
  "colab": {
   "collapsed_sections": [],
   "name": "W4_kaggle.ipynb",
   "provenance": [
    {
     "file_id": "186vmMo1mMofslmfisxIdIuoIk0NHNT71",
     "timestamp": 1582481220179
    }
   ]
  },
  "kernelspec": {
   "display_name": "Python 3",
   "language": "python",
   "name": "python3"
  },
  "language_info": {
   "codemirror_mode": {
    "name": "ipython",
    "version": 3
   },
   "file_extension": ".py",
   "mimetype": "text/x-python",
   "name": "python",
   "nbconvert_exporter": "python",
   "pygments_lexer": "ipython3",
   "version": "3.7.6"
  }
 },
 "nbformat": 4,
 "nbformat_minor": 1
}
