{
  "nbformat": 4,
  "nbformat_minor": 0,
  "metadata": {
    "colab": {
      "name": "Week_7.ipynb",
      "provenance": [],
      "collapsed_sections": []
    },
    "kernelspec": {
      "name": "python3",
      "display_name": "Python 3"
    }
  },
  "cells": [
    {
      "cell_type": "code",
      "metadata": {
        "id": "FVikPLMVd1rT",
        "colab_type": "code",
        "outputId": "244be0b3-08a4-4065-9997-684dd5c15959",
        "colab": {
          "base_uri": "https://localhost:8080/",
          "height": 128
        }
      },
      "source": [
        "# Данный код монтирует гугл диск к директории /gdrive\n",
        "from google.colab import drive\n",
        "drive.mount('/gdrive')"
      ],
      "execution_count": 1,
      "outputs": [
        {
          "output_type": "stream",
          "text": [
            "Go to this URL in a browser: https://accounts.google.com/o/oauth2/auth?client_id=947318989803-6bn6qk8qdgf4n4g3pfee6491hc0brc4i.apps.googleusercontent.com&redirect_uri=urn%3aietf%3awg%3aoauth%3a2.0%3aoob&response_type=code&scope=email%20https%3a%2f%2fwww.googleapis.com%2fauth%2fdocs.test%20https%3a%2f%2fwww.googleapis.com%2fauth%2fdrive%20https%3a%2f%2fwww.googleapis.com%2fauth%2fdrive.photos.readonly%20https%3a%2f%2fwww.googleapis.com%2fauth%2fpeopleapi.readonly\n",
            "\n",
            "Enter your authorization code:\n",
            "··········\n",
            "Mounted at /gdrive\n"
          ],
          "name": "stdout"
        }
      ]
    },
    {
      "cell_type": "markdown",
      "metadata": {
        "id": "WxrLT-_c7J5m",
        "colab_type": "text"
      },
      "source": [
        "# Отчет по финальному проекту \"Прогнозирование оттока клиентов\""
      ]
    },
    {
      "cell_type": "markdown",
      "metadata": {
        "id": "3Os0iQea7Elh",
        "colab_type": "text"
      },
      "source": [
        "### Введение"
      ]
    },
    {
      "cell_type": "markdown",
      "metadata": {
        "id": "vVV_CJWH7Vsd",
        "colab_type": "text"
      },
      "source": [
        "Выстраивание взаимоотношений с клиентами или customer relationship managmenet (CRM) является важным звеном в функционировании любого бизнеса. От того, насколько хорошо простроена работа с аудиторией зачастую зависит успех всей компании. В проектерассматривается одна из наиболее актуальных задач из области CRM: прогнозирование оттока пользователей или churn prediction. Суть задачи заключается в заблаговременном нахождении сегмента пользователей, склонных через некоторый промежуток времени отказаться от использования некоторого продукта или услуги. Точное и своевременное нахождение таких пользователей позволяет эффективно бороться с их оттоком, например, выявлять причины оттока и принимать меры по удержанию клиентов. Эта задача актуальна для большинства организаций, оказывающих услуги в сегменте B2C и вдвойне актуальна в областях, где распространение услуги близко к отметке 100%. "
      ]
    },
    {
      "cell_type": "markdown",
      "metadata": {
        "id": "fkKRo8ss7_h4",
        "colab_type": "text"
      },
      "source": [
        "### 1 Цели и задачи проекта. "
      ]
    },
    {
      "cell_type": "markdown",
      "metadata": {
        "id": "Cs7WSfeY9GXr",
        "colab_type": "text"
      },
      "source": [
        "Данные для соревнования были предоставлены французской телекоммуникационной компанией Orange. В задаче речь идет о клиентских данных, поэтому данные были предварительно обфусцированы и анонимизированны: из датасета убрана любая персональная информация, позволяющая идентифицировать пользователей, а также не представлены названия и описания переменных, предназначенных для построения прогнозов. Набор данных orange small dataset. Он состоит из 50 тыс. объектов и включает 230 переменных, из которых первые 190 переменных - числовые, и оставшиеся 40 переменные - категориальные."
      ]
    },
    {
      "cell_type": "markdown",
      "metadata": {
        "id": "yQJtLUBY8VyM",
        "colab_type": "text"
      },
      "source": [
        "Цель проекта - научиться находить пользователей, склонных к оттоку. Если научиться находить таких пользователей с достаточной точностью заблаговременно, то можно эффективно управлять оттоком: например, выявлять причины оттока; помогать пользователям, попавшим в группу риска, решать их проблемы и задачи; проводить кампании по удержанию."
      ]
    },
    {
      "cell_type": "markdown",
      "metadata": {
        "id": "cD9laeB_9msY",
        "colab_type": "text"
      },
      "source": [
        "В рамках проекта будет решена задача прогнозирования оттока пользователей, или churn prediction. Эта задача заключается в прогнозировании вероятности того, что клиент перестанет пользоваться сервисом в течение некоторого заданного заранее промежутка времени, например, решит перейти к конкуренту или откажется от использования услуги данного типа вообще. Задача прогнозирования оттока является одной из важнейших подзадач в области работы с аудиторий и актуальна не только для телекоммуникационных компаний, но и для большинства организаций, оказывающих услуги в сегменте B2C (прим. часто и в B2B тоже, однако в этом случае под клиентом мы понимаем компанию). Такие задачи часто возникают на практике у телекоммуникационных операторов, провайдеров кабельного телевидения, страховых компаний, банков, крупных и средних интернет-порталов и др."
      ]
    },
    {
      "cell_type": "markdown",
      "metadata": {
        "id": "Z3GXP8vr-Nfu",
        "colab_type": "text"
      },
      "source": [
        "### 2 Методика измерения качества и критерий успеха. "
      ]
    },
    {
      "cell_type": "markdown",
      "metadata": {
        "id": "2kNN3HXP_LWm",
        "colab_type": "text"
      },
      "source": [
        "Оптимизация и оценка качества модели будет проводится с помощью метрики ROC-AUC. ROC-кривая (англ. receiver operating characteristic) — график, позволяющий оценить качество бинарной классификации, отображает соотношение между долей объектов от общего количества носителей признака, верно классифицированных как несущие признак (англ. true positive rate, TPR, называемой чувствительностью алгоритма классификации), и долей объектов от общего количества объектов, не несущих признака, ошибочно классифицированных как несущие признак (англ. false positive rate, FPR, величина 1-FPR называется специфичностью алгоритма классификации) при варьировании порога решающего правила.\n",
        "\n",
        "Также известна как кривая ошибок. Анализ классификаций с применением ROC-кривых называется ROC-анализом.\n",
        "\n",
        "Количественную интерпретацию ROC даёт показатель AUC (англ. area under ROC curve, площадь под ROC-кривой) — площадь, ограниченная ROC-кривой и осью доли ложных положительных классификаций. Чем выше показатель AUC, тем качественнее классификатор, при этом значение 0,5 демонстрирует непригодность выбранного метода классификации (соответствует случайному гаданию). Значение менее 0,5 говорит, что классификатор действует с точностью до наоборот: если положительные назвать отрицательными и наоборот, классификатор будет работать лучше.\n",
        "\n",
        "Кроме того, при оценке качества модели важно понять такие основные характеристики к точность(Precision) и полнота(Recall). Также полезно будем посмотреть на такие показатели, как F-Score и Log Loss.\n",
        "\n",
        "Процесс тестирования будет устроен следующим образом. В начале будет выделена часть данных под hold out выборку(контроль на отложенных данных), которая необходима для финального теста работоспособности наиболее оптимальной модели. Если модель не сможет показать на отложенных данных результаты, которые бы были сопоставимы с результатами на тестах, то это будет сигналом о возможной переоптимизации и переподгонки под тестовые данные. Процесс тестирования различных моделей с различными настройкими будет проходить с использованием кросс-валидации(на 3 фолда). Это позволит наиболее полно использовать оставшиеся данные для тестов. Планируется пробовать различные комбинации обработки данных с различными вариантами оптимизационных моделей: регрессионная модель, случайный лес и градиентный бустинг.\n",
        "\n",
        "Критерием успешности для модели будет выступать метрика ROC-AUC. Именно та модель, которая покажет максимальный результат по метрике ROC-AUC будет признана наиболее оптимальной для использования при работе с данной клиентской базой. Также можно считать, что компания ожидает получить от нас модель, чьи результаты по метрике ROC-AUC были бы выше 0.6671 (baseline в соревновании на kaggle). Также можно будет говорить об успехе только в том случае, если модель успешно пройдет тестирование на отложенных данных."
      ]
    },
    {
      "cell_type": "markdown",
      "metadata": {
        "id": "qI0_edOwOhta",
        "colab_type": "text"
      },
      "source": [
        "### 3 Техническое описание решения. Опишите, как строится модель, какой pipline обработки данных? Здесь отлично будут смотреться схематические иллюстрации!"
      ]
    },
    {
      "cell_type": "markdown",
      "metadata": {
        "id": "50OC8H-8PKEU",
        "colab_type": "text"
      },
      "source": [
        "\n",
        "\n",
        "В начале, исходные данные делятся на обучающую выборку и отложенную выборку(hold out). Затем данные из обучающей выборки делятся по столбцам на те, которые содержат числовые переменные, и те, которые содержат категориальные переменные. Это делается потому, что методы работы с различными видами данных должны быть различными. В качестве вариантов оптимизационных моделей мы будем использовать следующие модели: регрессионная модель, случайный лес и градиентный бустинг. После определенных преобразований и операций с данными мы будем проверять, как на полученных данных смогли обучиться различные варианты моделей. Основной метрикой будет выступать ROC-AUC. Чтобы как можно полнее использовать обучающую выборку мы будем использовать кросс-валидацию на 3 фолда. В процессе поиска наилучшего решения были опробованы следующие методы преобразования данных и работы с ними:\n",
        "\n",
        "* были построены кривые обучения для поиска оптимального размера выборки\n",
        "* изменялось соотношение классов \"отток\" и \"не отток\" и узучалось как это влияет на качество моделей\n",
        "* к выборке применялась технология undersampling\n",
        "* применялись различныестратегии обработки пропусков в вещественных признаках\n",
        "* были опробованы различные алгоритмы обработки категориальных признаков: заполнение пропусков самым частым значением, заполнение пропусков новым значением (NaV), преобразование признаков с помощью DictVectorizer, преобразование признаков с помощью OneHotEncoder, преобразование признаков с помощью LabelEncoder\n",
        "* были проведены процедуры по отбору признаков различными методами: add-del, метод SelectKBest из библиотеки sklearn.feature_selection, метод SelectFdr из библиотеки sklearn.feature_selection\n",
        "\n",
        "Все эти преобразования проверялись сразу на нескольких моделях и только после этого принималось решения стоит использовать такое преобразование или нет.\n",
        "\n",
        "Кроме того, в самом конце для лучшего решения была проведена процедура подбора параметров модели с использованием RandomizedSearchCV.\n",
        "\n",
        "В итоге наилучшее качество было получено с использованием модели на основе XGBClassifier. При предварительном отборе признаков были удалены все константные признаки и признаки не содержащие значений.К категориальным признакам применяется LabelEncoder. \n",
        "\n",
        "В соревновании на kaggle в качестве метрики взята ROC AUC. Моя модель набрала 0.70218 по метрике ROC AUC, успешно преодолев baseline равный 0.66710."
      ]
    },
    {
      "cell_type": "code",
      "metadata": {
        "id": "wCkOz1G2J7WL",
        "colab_type": "code",
        "colab": {}
      },
      "source": [
        "import pandas as pd\n",
        "import random\n",
        "import numpy as np\n",
        "from scipy.sparse import coo_matrix, hstack\n",
        "from matplotlib import pyplot as plt\n",
        "from sklearn.model_selection import StratifiedKFold\n",
        "from sklearn.preprocessing import StandardScaler\n",
        "from sklearn.preprocessing import LabelEncoder\n",
        "from sklearn.preprocessing import OneHotEncoder\n",
        "from sklearn.preprocessing import PolynomialFeatures\n",
        "from sklearn.pipeline import Pipeline\n",
        "from sklearn.model_selection import train_test_split\n",
        "from sklearn.utils import shuffle\n",
        "from sklearn.model_selection import learning_curve\n",
        "from statsmodels.stats.weightstats import *\n",
        "from statsmodels.stats.proportion import proportion_confint\n",
        "from collections import Counter\n",
        "from imblearn.under_sampling import RandomUnderSampler\n",
        "from sklearn.model_selection import GridSearchCV\n",
        "from sklearn.metrics import *\n",
        "import xgboost as xgb\n",
        "import scipy.stats as ss\n",
        "import itertools\n",
        "import sys"
      ],
      "execution_count": 0,
      "outputs": []
    },
    {
      "cell_type": "code",
      "metadata": {
        "id": "Bj2svCGnUG7f",
        "colab_type": "code",
        "colab": {}
      },
      "source": [
        "from matplotlib import pyplot as plt\n",
        "import seaborn as sns\n",
        "%matplotlib inline\n",
        "\n",
        "from sklearn.metrics import roc_curve, precision_recall_curve, f1_score, roc_auc_score, recall_score, precision_score, log_loss, make_scorer\n",
        "\n",
        "from sklearn.linear_model import RidgeClassifier\n",
        "from sklearn.ensemble import RandomForestClassifier\n",
        "from sklearn.ensemble import GradientBoostingClassifier\n",
        "\n",
        "import warnings\n",
        "warnings.filterwarnings(\"ignore\")"
      ],
      "execution_count": 0,
      "outputs": []
    },
    {
      "cell_type": "code",
      "metadata": {
        "id": "by1zDWZxXfm1",
        "colab_type": "code",
        "colab": {}
      },
      "source": [
        "# функция для кодирования категориальных признаков\n",
        "def labelEncoder(data):\n",
        "    le = LabelEncoder()\n",
        "    for m in range(data.shape[1]):\n",
        "        #print(m)\n",
        "        tmp = data.iloc[:,m].astype(str)\n",
        "        le.fit(tmp)\n",
        "        data.iloc[:,m] = le.transform(tmp)        \n",
        "    return data"
      ],
      "execution_count": 0,
      "outputs": []
    },
    {
      "cell_type": "code",
      "metadata": {
        "id": "Dq3L3aurXnJr",
        "colab_type": "code",
        "colab": {}
      },
      "source": [
        "# удаление колонок со всеми пропущенными значениями\n",
        "def dropUninformCol(data):\n",
        "  df = pd.DataFrame()\n",
        "  df = data.dropna(axis=1, how='all')\n",
        "  return df"
      ],
      "execution_count": 0,
      "outputs": []
    },
    {
      "cell_type": "code",
      "metadata": {
        "id": "FhrnQwo0Xz4w",
        "colab_type": "code",
        "colab": {}
      },
      "source": [
        "# так как DataFrame несбалансирован, то undersampling\n",
        "def undersampling(x_train, y_train, alpha=0.5):\n",
        "  over_1 = RandomUnderSampler(sampling_strategy=alpha)\n",
        "  X, y = over_1.fit_resample(x_train, y_train)\n",
        "  return X, y"
      ],
      "execution_count": 0,
      "outputs": []
    },
    {
      "cell_type": "code",
      "metadata": {
        "id": "qWyzr-GRhkz9",
        "colab_type": "code",
        "colab": {}
      },
      "source": [
        "def scale_frame(frame):\n",
        "    \"\"\"Функция масштабирает frame на отрезок [0;1]\"\"\"\n",
        "    scaler = StandardScaler()\n",
        "    scaled_matrix = scaler.fit_transform(frame.values)\n",
        "    return pd.DataFrame(scaled_matrix, columns=frame.columns)"
      ],
      "execution_count": 0,
      "outputs": []
    },
    {
      "cell_type": "code",
      "metadata": {
        "id": "ezuzOg9jN_GZ",
        "colab_type": "code",
        "colab": {}
      },
      "source": [
        "def predict_model_proba(X, model):\n",
        "    \"\"\" Функция возвращает вероятности предсказаний для класса churn \"\"\"\n",
        "    return list(zip(*model.predict_proba(X)))[1]"
      ],
      "execution_count": 0,
      "outputs": []
    },
    {
      "cell_type": "code",
      "metadata": {
        "id": "xQ3YAgWlUM5G",
        "colab_type": "code",
        "outputId": "a1c80f12-018c-47ef-f54a-e5d66356c32e",
        "colab": {
          "base_uri": "https://localhost:8080/",
          "height": 53
        }
      },
      "source": [
        "#загрузим данные и проверим их\n",
        "train = pd.read_csv('/gdrive/My Drive/DATA/Stepik/orange_small_churn_data.train')\n",
        "labels = pd.read_csv('/gdrive/My Drive/DATA/Stepik/orange_small_churn_labels.train', header=None)\n",
        "\n",
        "print(train.shape)\n",
        "print(labels.shape)"
      ],
      "execution_count": 8,
      "outputs": [
        {
          "output_type": "stream",
          "text": [
            "(40000, 230)\n",
            "(40000, 1)\n"
          ],
          "name": "stdout"
        }
      ]
    },
    {
      "cell_type": "code",
      "metadata": {
        "id": "lV5kkm5Ujhz_",
        "colab_type": "code",
        "colab": {}
      },
      "source": [
        "# выделю категориальные признаки и выброшу пустые колонки\n",
        "data_cat = dropUninformCol(train.iloc[:, 190:])"
      ],
      "execution_count": 0,
      "outputs": []
    },
    {
      "cell_type": "code",
      "metadata": {
        "id": "m3ay_zKYlOKX",
        "colab_type": "code",
        "colab": {}
      },
      "source": [
        "# преобразую категориальные признаки\n",
        "data_cat_le = labelEncoder(data_cat)"
      ],
      "execution_count": 0,
      "outputs": []
    },
    {
      "cell_type": "code",
      "metadata": {
        "id": "tlWSvVQqiqCs",
        "colab_type": "code",
        "colab": {}
      },
      "source": [
        "# выделю числовые данные и удаляю полностью пустые колонки\n",
        "data_num = dropUninformCol(train.iloc[:, :190])"
      ],
      "execution_count": 0,
      "outputs": []
    },
    {
      "cell_type": "code",
      "metadata": {
        "id": "MKxf5PSagarS",
        "colab_type": "code",
        "colab": {}
      },
      "source": [
        "# заменю null на медианные значения\n",
        "data_num_mediana = data_num.fillna(data_num.median(axis=0))"
      ],
      "execution_count": 0,
      "outputs": []
    },
    {
      "cell_type": "code",
      "metadata": {
        "id": "xGwQXWp7hyUM",
        "colab_type": "code",
        "colab": {}
      },
      "source": [
        "# проведу маштабирование полученные числовых значений\n",
        "data_num_scalled = scale_frame(data_num_mediana)"
      ],
      "execution_count": 0,
      "outputs": []
    },
    {
      "cell_type": "code",
      "metadata": {
        "id": "YycP5czdUqjQ",
        "colab_type": "code",
        "colab": {}
      },
      "source": [
        "# проведу объединение числовых значений, категориальных признаков и labels\n",
        "df = pd.concat([data_num_scalled, data_cat_le, labels], axis=1)\n",
        "df = df.rename(columns={0:'labels'})"
      ],
      "execution_count": 0,
      "outputs": []
    },
    {
      "cell_type": "code",
      "metadata": {
        "id": "lVq0ggoyXSW2",
        "colab_type": "code",
        "colab": {}
      },
      "source": [
        "# провожу балансировку класса\n",
        "def show_proportion_data(frame):\n",
        "    proportion_plot = frame['labels'].plot(\n",
        "        kind=\"hist\",\n",
        "        title=\"Labels proportion\",\n",
        "        figsize=(2,3),\n",
        "        legend=False)\n",
        "    proportion_plot.set_xlabel(\"Label value\")\n",
        "    proportion_plot.set_ylabel(\"Label frequency\")\n",
        "    not_churn_proportion = float(frame[frame[\"labels\"] == -1].shape[0])/float(frame.shape[0])\n",
        "    print(not_churn_proportion)\n",
        "    churn_proportion = float(frame[frame[\"labels\"] == 1].shape[0])/float(frame.shape[0])\n",
        "    print (\"Доля ответов класса \\\"отток\\\": %.4f%%\\nДоля ответов класса \\\"не отток\\\": %.4f%%\\nКласса \\\"отток\\\" меньше в %.4f раз\" % (churn_proportion, not_churn_proportion, not_churn_proportion/churn_proportion))\n",
        "    plt.show()"
      ],
      "execution_count": 0,
      "outputs": []
    },
    {
      "cell_type": "code",
      "metadata": {
        "id": "FNFCd1F_fkVE",
        "colab_type": "code",
        "outputId": "3fd6e679-a178-4de3-90de-a469ee269cd4",
        "colab": {
          "base_uri": "https://localhost:8080/",
          "height": 314
        }
      },
      "source": [
        "show_proportion_data(df)"
      ],
      "execution_count": 51,
      "outputs": [
        {
          "output_type": "stream",
          "text": [
            "0.9256\n",
            "Доля ответов класса \"отток\": 0.0744%\n",
            "Доля ответов класса \"не отток\": 0.9256%\n",
            "Класса \"отток\" меньше в 12.4409 раз\n"
          ],
          "name": "stdout"
        },
        {
          "output_type": "display_data",
          "data": {
            "image/png": "[encoded data removed]",
            "text/plain": [
              "<Figure size 144x216 with 1 Axes>"
            ]
          },
          "metadata": {
            "tags": [],
            "needs_background": "light"
          }
        }
      ]
    },
    {
      "cell_type": "code",
      "metadata": {
        "id": "cwUVgMl1jW3a",
        "colab_type": "code",
        "colab": {
          "base_uri": "https://localhost:8080/",
          "height": 35
        },
        "outputId": "71da0c09-737c-446d-c390-c229901fa4e6"
      },
      "source": [
        "# Применю к выборке технологию undersampling\n",
        "over = RandomUnderSampler(sampling_strategy=0.95)\n",
        "X_sampling, y_sampling = over.fit_resample(df.iloc[:, :212], df['labels'])\n",
        "df_sampling = pd.DataFrame(X_sampling, columns=df.columns[:-1])\n",
        "df_sampling['labels'] = y_sampling\n",
        "print(Counter(y_sampling))"
      ],
      "execution_count": 52,
      "outputs": [
        {
          "output_type": "stream",
          "text": [
            "Counter({-1: 3132, 1: 2976})\n"
          ],
          "name": "stdout"
        }
      ]
    },
    {
      "cell_type": "code",
      "metadata": {
        "id": "ZIXsh_6dy5k1",
        "colab_type": "code",
        "colab": {
          "base_uri": "https://localhost:8080/",
          "height": 314
        },
        "outputId": "0927330f-7352-447d-bae9-e4d2cd80d75a"
      },
      "source": [
        "show_proportion_data(df_sampling)"
      ],
      "execution_count": 53,
      "outputs": [
        {
          "output_type": "stream",
          "text": [
            "0.5127701375245579\n",
            "Доля ответов класса \"отток\": 0.4872%\n",
            "Доля ответов класса \"не отток\": 0.5128%\n",
            "Класса \"отток\" меньше в 1.0524 раз\n"
          ],
          "name": "stdout"
        },
        {
          "output_type": "display_data",
          "data": {
            "image/png": "[encoded data removed]",
            "text/plain": [
              "<Figure size 144x216 with 1 Axes>"
            ]
          },
          "metadata": {
            "tags": [],
            "needs_background": "light"
          }
        }
      ]
    },
    {
      "cell_type": "code",
      "metadata": {
        "id": "SPhWgiF_y73B",
        "colab_type": "code",
        "colab": {}
      },
      "source": [
        "# разобью выборку на тестовую и обучающую\n",
        "X_train, X_test, y_train, y_test = train_test_split(df_sampling.iloc[:, :-1], df_sampling['labels'], test_size=0.25)"
      ],
      "execution_count": 0,
      "outputs": []
    },
    {
      "cell_type": "code",
      "metadata": {
        "id": "c3kJQQLa_GNW",
        "colab_type": "code",
        "colab": {
          "base_uri": "https://localhost:8080/",
          "height": 362
        },
        "outputId": "bf789fbb-8b3c-4d59-cb0d-9c4ae954dfb5"
      },
      "source": [
        "# произведу поиск лучших параметров при помощи XGBoost\n",
        "# попробуем xgboost\n",
        "bst = xgb.XGBClassifier(n_estimators=100)\n",
        "params = {'max_depth': [2, 3, 4],\n",
        "          'learning_rate': [0.05, 0.1],\n",
        "          'subsample': [0.8, 1.0]}\n",
        "\n",
        "xgb_grid = GridSearchCV(bst, params, scoring = 'roc_auc', cv=3, n_jobs=-1, verbose=1)\n",
        "\n",
        "xgb_grid.fit(X_train, y_train)"
      ],
      "execution_count": 78,
      "outputs": [
        {
          "output_type": "stream",
          "text": [
            "Fitting 3 folds for each of 12 candidates, totalling 36 fits\n"
          ],
          "name": "stdout"
        },
        {
          "output_type": "stream",
          "text": [
            "[Parallel(n_jobs=-1)]: Using backend LokyBackend with 2 concurrent workers.\n",
            "[Parallel(n_jobs=-1)]: Done  36 out of  36 | elapsed:   45.6s finished\n"
          ],
          "name": "stderr"
        },
        {
          "output_type": "execute_result",
          "data": {
            "text/plain": [
              "GridSearchCV(cv=3, error_score=nan,\n",
              "             estimator=XGBClassifier(base_score=0.5, booster='gbtree',\n",
              "                                     colsample_bylevel=1, colsample_bynode=1,\n",
              "                                     colsample_bytree=1, gamma=0,\n",
              "                                     learning_rate=0.1, max_delta_step=0,\n",
              "                                     max_depth=3, min_child_weight=1,\n",
              "                                     missing=None, n_estimators=100, n_jobs=1,\n",
              "                                     nthread=None, objective='binary:logistic',\n",
              "                                     random_state=0, reg_alpha=0, reg_lambda=1,\n",
              "                                     scale_pos_weight=1, seed=None, silent=None,\n",
              "                                     subsample=1, verbosity=1),\n",
              "             iid='deprecated', n_jobs=-1,\n",
              "             param_grid={'learning_rate': [0.05, 0.1], 'max_depth': [2, 3, 4],\n",
              "                         'subsample': [0.8, 1.0]},\n",
              "             pre_dispatch='2*n_jobs', refit=True, return_train_score=False,\n",
              "             scoring='roc_auc', verbose=1)"
            ]
          },
          "metadata": {
            "tags": []
          },
          "execution_count": 78
        }
      ]
    },
    {
      "cell_type": "code",
      "metadata": {
        "id": "KZCENMDuBIQy",
        "colab_type": "code",
        "colab": {
          "base_uri": "https://localhost:8080/",
          "height": 487
        },
        "outputId": "222872f0-3a84-46ac-f523-e534666400e1"
      },
      "source": [
        "df_result = pd.DataFrame(xgb_grid.cv_results_)\n",
        "df_result.head()"
      ],
      "execution_count": 79,
      "outputs": [
        {
          "output_type": "execute_result",
          "data": {
            "text/html": [
              "<div>\n",
              "<style scoped>\n",
              "    .dataframe tbody tr th:only-of-type {\n",
              "        vertical-align: middle;\n",
              "    }\n",
              "\n",
              "    .dataframe tbody tr th {\n",
              "        vertical-align: top;\n",
              "    }\n",
              "\n",
              "    .dataframe thead th {\n",
              "        text-align: right;\n",
              "    }\n",
              "</style>\n",
              "<table border=\"1\" class=\"dataframe\">\n",
              "  <thead>\n",
              "    <tr style=\"text-align: right;\">\n",
              "      <th></th>\n",
              "      <th>mean_fit_time</th>\n",
              "      <th>std_fit_time</th>\n",
              "      <th>mean_score_time</th>\n",
              "      <th>std_score_time</th>\n",
              "      <th>param_learning_rate</th>\n",
              "      <th>param_max_depth</th>\n",
              "      <th>param_subsample</th>\n",
              "      <th>params</th>\n",
              "      <th>split0_test_score</th>\n",
              "      <th>split1_test_score</th>\n",
              "      <th>split2_test_score</th>\n",
              "      <th>mean_test_score</th>\n",
              "      <th>std_test_score</th>\n",
              "      <th>rank_test_score</th>\n",
              "    </tr>\n",
              "  </thead>\n",
              "  <tbody>\n",
              "    <tr>\n",
              "      <th>0</th>\n",
              "      <td>1.859660</td>\n",
              "      <td>0.008006</td>\n",
              "      <td>0.017743</td>\n",
              "      <td>0.000733</td>\n",
              "      <td>0.05</td>\n",
              "      <td>2</td>\n",
              "      <td>0.8</td>\n",
              "      <td>{'learning_rate': 0.05, 'max_depth': 2, 'subsa...</td>\n",
              "      <td>0.721009</td>\n",
              "      <td>0.717797</td>\n",
              "      <td>0.700720</td>\n",
              "      <td>0.713175</td>\n",
              "      <td>0.008904</td>\n",
              "      <td>7</td>\n",
              "    </tr>\n",
              "    <tr>\n",
              "      <th>1</th>\n",
              "      <td>1.647340</td>\n",
              "      <td>0.010870</td>\n",
              "      <td>0.017674</td>\n",
              "      <td>0.000636</td>\n",
              "      <td>0.05</td>\n",
              "      <td>2</td>\n",
              "      <td>1</td>\n",
              "      <td>{'learning_rate': 0.05, 'max_depth': 2, 'subsa...</td>\n",
              "      <td>0.720973</td>\n",
              "      <td>0.718112</td>\n",
              "      <td>0.697320</td>\n",
              "      <td>0.712135</td>\n",
              "      <td>0.010541</td>\n",
              "      <td>10</td>\n",
              "    </tr>\n",
              "    <tr>\n",
              "      <th>2</th>\n",
              "      <td>2.613110</td>\n",
              "      <td>0.014333</td>\n",
              "      <td>0.018879</td>\n",
              "      <td>0.000200</td>\n",
              "      <td>0.05</td>\n",
              "      <td>3</td>\n",
              "      <td>0.8</td>\n",
              "      <td>{'learning_rate': 0.05, 'max_depth': 3, 'subsa...</td>\n",
              "      <td>0.728395</td>\n",
              "      <td>0.723328</td>\n",
              "      <td>0.708022</td>\n",
              "      <td>0.719915</td>\n",
              "      <td>0.008660</td>\n",
              "      <td>1</td>\n",
              "    </tr>\n",
              "    <tr>\n",
              "      <th>3</th>\n",
              "      <td>2.273121</td>\n",
              "      <td>0.027763</td>\n",
              "      <td>0.018584</td>\n",
              "      <td>0.000152</td>\n",
              "      <td>0.05</td>\n",
              "      <td>3</td>\n",
              "      <td>1</td>\n",
              "      <td>{'learning_rate': 0.05, 'max_depth': 3, 'subsa...</td>\n",
              "      <td>0.722479</td>\n",
              "      <td>0.714112</td>\n",
              "      <td>0.700805</td>\n",
              "      <td>0.712466</td>\n",
              "      <td>0.008925</td>\n",
              "      <td>9</td>\n",
              "    </tr>\n",
              "    <tr>\n",
              "      <th>4</th>\n",
              "      <td>3.393560</td>\n",
              "      <td>0.014646</td>\n",
              "      <td>0.020999</td>\n",
              "      <td>0.000744</td>\n",
              "      <td>0.05</td>\n",
              "      <td>4</td>\n",
              "      <td>0.8</td>\n",
              "      <td>{'learning_rate': 0.05, 'max_depth': 4, 'subsa...</td>\n",
              "      <td>0.728689</td>\n",
              "      <td>0.722210</td>\n",
              "      <td>0.708130</td>\n",
              "      <td>0.719676</td>\n",
              "      <td>0.008582</td>\n",
              "      <td>2</td>\n",
              "    </tr>\n",
              "  </tbody>\n",
              "</table>\n",
              "</div>"
            ],
            "text/plain": [
              "   mean_fit_time  std_fit_time  ...  std_test_score  rank_test_score\n",
              "0       1.859660      0.008006  ...        0.008904                7\n",
              "1       1.647340      0.010870  ...        0.010541               10\n",
              "2       2.613110      0.014333  ...        0.008660                1\n",
              "3       2.273121      0.027763  ...        0.008925                9\n",
              "4       3.393560      0.014646  ...        0.008582                2\n",
              "\n",
              "[5 rows x 14 columns]"
            ]
          },
          "metadata": {
            "tags": []
          },
          "execution_count": 79
        }
      ]
    },
    {
      "cell_type": "code",
      "metadata": {
        "id": "3UJ5kpmoBsVF",
        "colab_type": "code",
        "colab": {
          "base_uri": "https://localhost:8080/",
          "height": 35
        },
        "outputId": "ac672556-82d1-4c98-a69a-0223fa9776e2"
      },
      "source": [
        "# оптимальные параметры\n",
        "xgb_grid.best_params_"
      ],
      "execution_count": 80,
      "outputs": [
        {
          "output_type": "execute_result",
          "data": {
            "text/plain": [
              "{'learning_rate': 0.05, 'max_depth': 3, 'subsample': 0.8}"
            ]
          },
          "metadata": {
            "tags": []
          },
          "execution_count": 80
        }
      ]
    },
    {
      "cell_type": "code",
      "metadata": {
        "id": "SBsnNaL4C3ix",
        "colab_type": "code",
        "colab": {
          "base_uri": "https://localhost:8080/",
          "height": 144
        },
        "outputId": "96142031-834a-4da8-a31a-794606fac73a"
      },
      "source": [
        "estimator = xgb.XGBClassifier(n_estimators=100, learning_rate = 0.05, max_depth = 3, subsample = 0.8)\n",
        "estimator.fit(X_train, y_train)"
      ],
      "execution_count": 81,
      "outputs": [
        {
          "output_type": "execute_result",
          "data": {
            "text/plain": [
              "XGBClassifier(base_score=0.5, booster='gbtree', colsample_bylevel=1,\n",
              "              colsample_bynode=1, colsample_bytree=1, gamma=0,\n",
              "              learning_rate=0.05, max_delta_step=0, max_depth=3,\n",
              "              min_child_weight=1, missing=None, n_estimators=100, n_jobs=1,\n",
              "              nthread=None, objective='binary:logistic', random_state=0,\n",
              "              reg_alpha=0, reg_lambda=1, scale_pos_weight=1, seed=None,\n",
              "              silent=None, subsample=0.8, verbosity=1)"
            ]
          },
          "metadata": {
            "tags": []
          },
          "execution_count": 81
        }
      ]
    },
    {
      "cell_type": "code",
      "metadata": {
        "id": "HBEXqAPJByuw",
        "colab_type": "code",
        "colab": {}
      },
      "source": [
        "xgb_predict = estimator.predict(X_test)"
      ],
      "execution_count": 0,
      "outputs": []
    },
    {
      "cell_type": "code",
      "metadata": {
        "id": "wla7j1vPDicT",
        "colab_type": "code",
        "colab": {
          "base_uri": "https://localhost:8080/",
          "height": 90
        },
        "outputId": "288bc33c-6103-443a-b5f5-12301c297475"
      },
      "source": [
        "print ('ROC-AUC:', roc_auc_score(y_test, xgb_predict))\n",
        "print ('PR-AUC:', average_precision_score(y_test, xgb_predict))\n",
        "print('Precision: ', precision_score(y_test, xgb_predict))\n",
        "print('Recall: ', recall_score(y_test, xgb_predict))"
      ],
      "execution_count": 83,
      "outputs": [
        {
          "output_type": "stream",
          "text": [
            "ROC-AUC: 0.6772889004897551\n",
            "PR-AUC: 0.6376046073214907\n",
            "Precision:  0.7083926031294452\n",
            "Recall:  0.631979695431472\n"
          ],
          "name": "stdout"
        }
      ]
    },
    {
      "cell_type": "markdown",
      "metadata": {
        "id": "VX1RzybZLelJ",
        "colab_type": "text"
      },
      "source": [
        "### 4 Качество модели"
      ]
    },
    {
      "cell_type": "code",
      "metadata": {
        "id": "6u9pfQ1LDkFj",
        "colab_type": "code",
        "colab": {
          "base_uri": "https://localhost:8080/",
          "height": 948
        },
        "outputId": "82766ef6-1ec2-4a0b-c9cb-77ef4422304d"
      },
      "source": [
        "# следующим щагом выберу наиболее оличившиеся признаки\n",
        "\n",
        "fig, ax = plt.subplots(figsize=(12, 16))\n",
        "xgb.plot_importance(xgb_grid.best_estimator_, ax=ax)\n",
        "plt.show()"
      ],
      "execution_count": 84,
      "outputs": [
        {
          "output_type": "display_data",
          "data": {
            "image/png": "[encoded data removed]",
            "text/plain": [
              "<Figure size 864x1152 with 1 Axes>"
            ]
          },
          "metadata": {
            "tags": [],
            "needs_background": "light"
          }
        }
      ]
    },
    {
      "cell_type": "markdown",
      "metadata": {
        "id": "-4ZppTtILv4A",
        "colab_type": "text"
      },
      "source": [
        "**Согласно полученной офенке наибольший вклад внесли часловые признаки.**"
      ]
    },
    {
      "cell_type": "markdown",
      "metadata": {
        "id": "qLfgXiAQMb9d",
        "colab_type": "text"
      },
      "source": [
        "#### Определяю экономический эффект\n",
        "\n",
        "* 1500 рублей в среднем приносит один пользователь в месяц;\n",
        "* 300 рублей в среднем мы будем вкладывать в удержание одного пользователя;\n",
        "* с вероятностью 0.8 пользователь примет наше предложение;\n",
        "* топ 1% согласно ранжированию по нашей модели будет участвовать в кампании;\n",
        "* 1200000 клиентов пользуются услугами компании.\n"
      ]
    },
    {
      "cell_type": "code",
      "metadata": {
        "id": "aK9LHS53F6xK",
        "colab_type": "code",
        "colab": {}
      },
      "source": [
        "month_revenue_per_user = 1500 # Сколько денег в среднем приносит один пользователь в месяц (300 рублей)\n",
        "price_per_user_churn = 300 # Сколько денег будем вкладывать в удержание пользователя (100 рублей)\n",
        "retention_probability = 0.8 # Вероятность, с которой пользователь, собирающийся уйти, примет предложение\n",
        "participants_perc = 0.01 # Сколько пользователей участвует. Участвует топ 1% согласно ранжированию по нашей модели\n",
        "churn_size = 0.0744 # Процент пользователей, собирающихся уйти\n",
        "clients_count = 1200000 # Количество клиентов"
      ],
      "execution_count": 0,
      "outputs": []
    },
    {
      "cell_type": "code",
      "metadata": {
        "id": "6iPtU29uMaFL",
        "colab_type": "code",
        "colab": {}
      },
      "source": [
        "model = GradientBoostingClassifier().fit(X_train, y_train)"
      ],
      "execution_count": 0,
      "outputs": []
    },
    {
      "cell_type": "code",
      "metadata": {
        "id": "F3tWMyGDNm_e",
        "colab_type": "code",
        "colab": {}
      },
      "source": [
        "probabilities = predict_model_proba(X_test, model)"
      ],
      "execution_count": 0,
      "outputs": []
    },
    {
      "cell_type": "code",
      "metadata": {
        "id": "EKf6guyZNyo7",
        "colab_type": "code",
        "colab": {}
      },
      "source": [
        "def calculate_revenue(probas, threshold, precision, count, rp):\n",
        "    clients_count = len(probas)\n",
        "    churn_count = np.round(clients_count * churn_size, 0) # Количество пользователей, которые собриаются уйти\n",
        "    churn_found = np.round(churn_count*precision, 0) # Количество пользователей, собирающихся уйти, которых выявила модель\n",
        "    #participants_count = len([p for p in probas if p > threshold]) # Количество пользователей в кампании\n",
        "    participants_count = count\n",
        "    not_participants_cnt = clients_count-participants_count # Количество пользователей не участвующих в кампании\n",
        "    others_count = participants_count - churn_found # Количество пользователей не собирающихся уходить\n",
        "    \n",
        "    #retention_size = np.round(churn_found * retention_probability, 0) # Количество пользователей, которых удалось сохранить\n",
        "    retention_size = rp\n",
        "    churned = churn_count-retention_size # Количество пользователей, которые ушли\n",
        "    saved_count = clients_count - churned # Количество пользователей после проведения кампании\n",
        "    \n",
        "       \n",
        "    month_revenue = retention_size*month_revenue_per_user * retention_probability# Сколько денег получили в месяц\n",
        "    money_spent = participants_count * price_per_user_churn # Сколько денег потратили на удержание в месяц\n",
        "    \n",
        "    \n",
        "    return threshold, np.round(participants_count*100.0/clients_count, 2), month_revenue-money_spent, retention_size, participants_count\n",
        "\n",
        "def build_revenue_table(shift = 0):\n",
        "    data = []\n",
        "    for threshold in np.arange(0.0, 1.0, 0.01):\n",
        "        predictions = [-1 if probability < threshold else 1 for probability in probabilities]\n",
        "        precision = precision_score(list(y_test), predictions) + shift\n",
        "        r_pred = pd.DataFrame({'pred':predictions, 'test':list(y_test)})\n",
        "        r_pred.head()\n",
        "        rp = 0 # клиенты которые хотели но передумали\n",
        "        count=0 #счетчик для клиентов которые могут уйти\n",
        "        for index, row in r_pred.iterrows():\n",
        "            if row['pred'] == 1 and row['test'] == 1:\n",
        "                rp = rp + 1\n",
        "            if row['pred'] == 1:\n",
        "                count=count+1\n",
        "    \n",
        "        revenue_info = calculate_revenue(probabilities, threshold, precision, count, rp)\n",
        "        data.append(revenue_info)\n",
        "    return data"
      ],
      "execution_count": 0,
      "outputs": []
    },
    {
      "cell_type": "code",
      "metadata": {
        "id": "M0oWZTtFOEvs",
        "colab_type": "code",
        "colab": {}
      },
      "source": [
        "revenue_table = build_revenue_table()"
      ],
      "execution_count": 0,
      "outputs": []
    },
    {
      "cell_type": "markdown",
      "metadata": {
        "id": "nGvNVhqFOs0Y",
        "colab_type": "text"
      },
      "source": [
        "\n",
        "Выведем таблицу, которая показывает, как от порогового значения вероятности зависит количество клиентов класса \"отток\" для которых эта вероятность выше. Таким образом становится понятно, какой топ клиентов необходимо брать для наибольшего экономического эффекта, который также рассчитан в таблице и по нему данная таблица отсортированна. Также приведено число клиентом(Count), которое были идентифицированны как склонные к оттоку, а также число клиентов (Saved clients count), которые действительно бы ушли, если бы не стали участниками акции по удержанию.\n"
      ]
    },
    {
      "cell_type": "code",
      "metadata": {
        "id": "FXJvGMWpOaZA",
        "colab_type": "code",
        "colab": {
          "base_uri": "https://localhost:8080/",
          "height": 206
        },
        "outputId": "1d90ef3b-a44a-4493-99a0-272c40887692"
      },
      "source": [
        "pd.DataFrame(\n",
        "    sorted(revenue_table, key=lambda r: -r[2]),\n",
        "    columns=[\"Threshold\", \"Clients %\", \"Effect\", \"Saved clients count\", \"Count\"]).head(5)"
      ],
      "execution_count": 97,
      "outputs": [
        {
          "output_type": "execute_result",
          "data": {
            "text/html": [
              "<div>\n",
              "<style scoped>\n",
              "    .dataframe tbody tr th:only-of-type {\n",
              "        vertical-align: middle;\n",
              "    }\n",
              "\n",
              "    .dataframe tbody tr th {\n",
              "        vertical-align: top;\n",
              "    }\n",
              "\n",
              "    .dataframe thead th {\n",
              "        text-align: right;\n",
              "    }\n",
              "</style>\n",
              "<table border=\"1\" class=\"dataframe\">\n",
              "  <thead>\n",
              "    <tr style=\"text-align: right;\">\n",
              "      <th></th>\n",
              "      <th>Threshold</th>\n",
              "      <th>Clients %</th>\n",
              "      <th>Effect</th>\n",
              "      <th>Saved clients count</th>\n",
              "      <th>Count</th>\n",
              "    </tr>\n",
              "  </thead>\n",
              "  <tbody>\n",
              "    <tr>\n",
              "      <th>0</th>\n",
              "      <td>0.23</td>\n",
              "      <td>88.61</td>\n",
              "      <td>510900.0</td>\n",
              "      <td>764</td>\n",
              "      <td>1353</td>\n",
              "    </tr>\n",
              "    <tr>\n",
              "      <th>1</th>\n",
              "      <td>0.22</td>\n",
              "      <td>89.52</td>\n",
              "      <td>509100.0</td>\n",
              "      <td>766</td>\n",
              "      <td>1367</td>\n",
              "    </tr>\n",
              "    <tr>\n",
              "      <th>2</th>\n",
              "      <td>0.21</td>\n",
              "      <td>90.64</td>\n",
              "      <td>506400.0</td>\n",
              "      <td>768</td>\n",
              "      <td>1384</td>\n",
              "    </tr>\n",
              "    <tr>\n",
              "      <th>3</th>\n",
              "      <td>0.25</td>\n",
              "      <td>86.71</td>\n",
              "      <td>506400.0</td>\n",
              "      <td>753</td>\n",
              "      <td>1324</td>\n",
              "    </tr>\n",
              "    <tr>\n",
              "      <th>4</th>\n",
              "      <td>0.24</td>\n",
              "      <td>87.69</td>\n",
              "      <td>505500.0</td>\n",
              "      <td>756</td>\n",
              "      <td>1339</td>\n",
              "    </tr>\n",
              "  </tbody>\n",
              "</table>\n",
              "</div>"
            ],
            "text/plain": [
              "   Threshold  Clients %    Effect  Saved clients count  Count\n",
              "0       0.23      88.61  510900.0                  764   1353\n",
              "1       0.22      89.52  509100.0                  766   1367\n",
              "2       0.21      90.64  506400.0                  768   1384\n",
              "3       0.25      86.71  506400.0                  753   1324\n",
              "4       0.24      87.69  505500.0                  756   1339"
            ]
          },
          "metadata": {
            "tags": []
          },
          "execution_count": 97
        }
      ]
    },
    {
      "cell_type": "markdown",
      "metadata": {
        "id": "Hnq0N-PlPaFK",
        "colab_type": "text"
      },
      "source": [
        "Для моей модели оптимальным оказалось взять 88.61% клиентов склонных к оттоку (по мнению модели) для получения максимальной прибыли. Это соответствует значению порога 0.23. То есть когда модель считает, что пользователь может уйти с вероятностью 23%, с ним можно начинать проводить кампанию по удержанию. Таких пользователей из 1200000 оказалось 1353 , и 764 из них готовы скоро уйти. Таким образом точность предсказания для этой группы пользователей составляет примерно 23%. Эффект от проведения компании составит 510900 рублей."
      ]
    },
    {
      "cell_type": "markdown",
      "metadata": {
        "id": "bnhIWKDXRRLc",
        "colab_type": "text"
      },
      "source": [
        "### 5. Об идеях и дополнениях по внедрению модели"
      ]
    },
    {
      "cell_type": "markdown",
      "metadata": {
        "id": "ACjCt8jYRkEd",
        "colab_type": "text"
      },
      "source": [
        "\n",
        "\n",
        "Дополнительно можно сформулировать и предложить дизайн онлайн эксперимента, на основании которого можно будет оценить качество работы модели в продакшн. Может быть стоит провести А/Б-тестирование? Каким в этом случае будет дизайн эксперимента? Может быть вы захотите сформулировать предложения по процессу эксплуатации модели, мониторинга за качеством и дообучения модели? Проявите фантазию=)\n",
        "\n",
        "Как писалось выше, использование прогнозной модели может оказаться экономически выгодным. Однако, на практике все оказывается по-другому, чем представлялось заранее. Поэтому хотелось бы поделиться некоторыми общими соображениями по поводу внедрения и использования модели (копипаст, но согласен с ним полностью):\n",
        "\n",
        "Средний доход от одного абонента - это очень грубое усреднение. Необходимо разделять клиентов как минимум на важных(высокодоходных), обычных и низкодоходных. Именно для важных клиентов кампании по удержанию будут наиболее эффективны, потому что для них соотношение между месячной прибылью и стоимостью удержания будет максимальной. Для низкодоходных клиентов возможно вообще стоит отказаться от попыток по их удержанию.\n",
        "\n",
        "\"Средний\" абонент. При построении прогнозной модели все пользователи усреднялись. Без сомнений, это весьма грубое допущение, потому как потребности у абонентов разные. Например, у кого-то может быть в приоритете стоимость сообщений, у кого-то интернет для планшета на дополнительном номере, а для кого-то важна бесперебойная связь в роуминге. Поэтому каждому надо делать предложение, которое может заинтересовать именно его, а не \"среднего\" абонента. Отсюда вывод о необходимости сегнментации абонентов (к счастью, не только для использования модели, а вообще для понимания поведения абонентов);\n",
        "\n",
        "A/A тестирование. При наличии достаточного количества данных можно провести А/А тестирование бесплатно и узнать, например, как сильно могут отличаться доли в двух группах абонентов, которым мы не делаем никакого предложения. Если результаты существенно различаются, то, вероятно, мы плохо разбиваем пользователей на группы или упускаем что-то еще;\n",
        "\n",
        "Разбиение пользователей для A/B тестирования. Здесь кажется логичным делать стратифицированные разбиения. Например, отобраны top% абонентов 1, 3, 5, ... абоненты попадут в группу A, а 2, 4, 6, ... абоненты попадут в группу B. Здесь мы полагаем эту выборку стратифицированной основываясь на результатах прогнозной модели (сначала идут те абоненты, предсказанная вероятность для которых больше). Однако, свои изменения могут внести сегментация, свежесть модели и прочее;\n",
        "\n",
        "Профиль пользователя. Для каждого абонента можно анализировать историю звонков, ведь кто-то может пользоваться услугами преимущественно в рабочее время или наоборот. Так же, может оказаться полезным вычислять местоположение абонента, что тоже расскажет об абоненте и т.д. Профилирование и сегментация могут взаимно дополнять друг друга (и, вообще говоря, грань между ними может быть условной);\n",
        "\n",
        "Наблюдение за ключевыми параметрами. Построить и использовать модель может оказаться полезным и выгодным делом, но, скорее всего, она не будет вечной. Поэтому периодически необходимо проверять как модель работает, как она описывает отток пользователей, постепенно набирая статистику как бизнес-показателей, так и метрик модели. Получая все больше и больше новых данных можно дообучать модель, выявлять ее слабые и сильные стороны;\n",
        "\n",
        "Выявление ошибок классификации. Для объектов, где модель ошибается сильно можно найти наиболее близкие (например, использовать косинусную меру) и попытаться выявить, что приводит к ошибке. Однако, может оказаться, что эти объекты аномальные и нет разумных объяснений, почему допускается ошибка. В этом случае, можно разметить дополнительный признак;\n",
        "\n",
        "Обновление модели. Рано или поздно настанет момент, когда модель перестанет давать заявленое качество. Это может быть вызвано разными измнениями: ситуация на рынке, новые предложения компании и т.д. Поэтому необязательно дожидаться падения метрик модели, если в работе компании произошли или планируются\n",
        "\n",
        "Очень многое зависит от масштаба бизнеса, от количества клиентов к которым модель может быть применена. Затраты на улучшение модели - это некоторая фиксированная сумма. И для мелкого бизнеса такие вложения могут никогда не окупится, а для крупного бизнеса даже реальное улучшение на 1% может означать прибыль в миллионы рублей.\n",
        "\n",
        "Прежде чем говорить о дополнительных вложениях в исследование по улучшении модели, надо сначала опробовать ту модель которая у нас уже есть в реальных условия. Будет очень хорошо, если она покажет именно те результаты, которые мы от неё ожидаем. Часто показатели эффективности модели в реальных условиях начинают сильно отличаться от заявленных в худшую сторону из-за переподгонки и переоптимизации. Кроме того, могут возникнуть новые факторы, которые не были учтены в модели, но очень сильно сказываются на её успользовании в реальных условиях. Невозможно улучшать до бесконечности, нужно опробывать ту модель которая есть. Если модель докажет свою эффективность, тогда конечно уже можно будет думать о выделении дополнительного финансирования на её улучшение.\n",
        "\n"
      ]
    }
  ]
}