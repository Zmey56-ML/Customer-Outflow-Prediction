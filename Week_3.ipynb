{
 "cells": [
  {
   "cell_type": "code",
   "execution_count": 0,
   "metadata": {
    "colab": {},
    "colab_type": "code",
    "id": "6okq57gYsEIC"
   },
   "outputs": [],
   "source": [
    "import pandas as pd\n",
    "import numpy as np\n",
    "from matplotlib import pyplot as plt"
   ]
  },
  {
   "cell_type": "code",
   "execution_count": 0,
   "metadata": {
    "colab": {
     "base_uri": "https://localhost:8080/",
     "height": 124
    },
    "colab_type": "code",
    "executionInfo": {
     "elapsed": 41085,
     "status": "ok",
     "timestamp": 1582472908781,
     "user": {
      "displayName": "Alexandr G.",
      "photoUrl": "https://lh3.googleusercontent.com/a-/AAuE7mClS9lT7I9GIyE01iu2ZUvoedcXdcleb7j2xhQtNWE=s64",
      "userId": "09466988309861796445"
     },
     "user_tz": -180
    },
    "id": "fCpl13V9u6JA",
    "outputId": "e44c4db6-611c-4216-e784-8cfde9000e83"
   },
   "outputs": [
    {
     "name": "stdout",
     "output_type": "stream",
     "text": [
      "Go to this URL in a browser: https://accounts.google.com/o/oauth2/auth?client_id=947318989803-6bn6qk8qdgf4n4g3pfee6491hc0brc4i.apps.googleusercontent.com&redirect_uri=urn%3aietf%3awg%3aoauth%3a2.0%3aoob&response_type=code&scope=email%20https%3a%2f%2fwww.googleapis.com%2fauth%2fdocs.test%20https%3a%2f%2fwww.googleapis.com%2fauth%2fdrive%20https%3a%2f%2fwww.googleapis.com%2fauth%2fdrive.photos.readonly%20https%3a%2f%2fwww.googleapis.com%2fauth%2fpeopleapi.readonly\n",
      "\n",
      "Enter your authorization code:\n",
      "··········\n",
      "Mounted at /gdrive\n"
     ]
    }
   ],
   "source": [
    "# Данный код монтирует гугл диск к директории /gdrive\n",
    "from google.colab import drive\n",
    "drive.mount('/gdrive')"
   ]
  },
  {
   "cell_type": "code",
   "execution_count": 1,
   "metadata": {
    "colab": {
     "base_uri": "https://localhost:8080/",
     "height": 185
    },
    "colab_type": "code",
    "executionInfo": {
     "elapsed": 952,
     "status": "error",
     "timestamp": 1582561779308,
     "user": {
      "displayName": "Alexandr G.",
      "photoUrl": "https://lh3.googleusercontent.com/a-/AAuE7mClS9lT7I9GIyE01iu2ZUvoedcXdcleb7j2xhQtNWE=s64",
      "userId": "09466988309861796445"
     },
     "user_tz": -180
    },
    "id": "ySA9oVRysEIV",
    "outputId": "35865bbc-9c72-4437-efb0-dc5472f4b91c"
   },
   "outputs": [
    {
     "ename": "NameError",
     "evalue": "ignored",
     "output_type": "error",
     "traceback": [
      "\u001b[0;31m---------------------------------------------------------------------------\u001b[0m",
      "\u001b[0;31mNameError\u001b[0m                                 Traceback (most recent call last)",
      "\u001b[0;32m<ipython-input-1-2add0faf296f>\u001b[0m in \u001b[0;36m<module>\u001b[0;34m()\u001b[0m\n\u001b[0;32m----> 1\u001b[0;31m \u001b[0morange_data\u001b[0m \u001b[0;34m=\u001b[0m \u001b[0mpd\u001b[0m\u001b[0;34m.\u001b[0m\u001b[0mread_csv\u001b[0m\u001b[0;34m(\u001b[0m\u001b[0;34m'/gdrive/My Drive/Colab Notebooks/FINAL_2/DATA/orange_small_churn_data.train'\u001b[0m\u001b[0;34m)\u001b[0m\u001b[0;34m\u001b[0m\u001b[0;34m\u001b[0m\u001b[0m\n\u001b[0m\u001b[1;32m      2\u001b[0m \u001b[0morange_data\u001b[0m\u001b[0;34m.\u001b[0m\u001b[0mshape\u001b[0m\u001b[0;34m\u001b[0m\u001b[0;34m\u001b[0m\u001b[0m\n",
      "\u001b[0;31mNameError\u001b[0m: name 'pd' is not defined"
     ]
    }
   ],
   "source": [
    "orange_data = pd.read_csv('/gdrive/My Drive/Colab Notebooks/FINAL_2/DATA/orange_small_churn_data.train')\n",
    "orange_data.shape"
   ]
  },
  {
   "cell_type": "code",
   "execution_count": 2,
   "metadata": {
    "colab": {
     "base_uri": "https://localhost:8080/",
     "height": 167
    },
    "colab_type": "code",
    "executionInfo": {
     "elapsed": 1282,
     "status": "error",
     "timestamp": 1582561779646,
     "user": {
      "displayName": "Alexandr G.",
      "photoUrl": "https://lh3.googleusercontent.com/a-/AAuE7mClS9lT7I9GIyE01iu2ZUvoedcXdcleb7j2xhQtNWE=s64",
      "userId": "09466988309861796445"
     },
     "user_tz": -180
    },
    "id": "DlCkbwSssEIt",
    "outputId": "bae5e37b-6def-4210-d535-86c43906b290"
   },
   "outputs": [
    {
     "ename": "NameError",
     "evalue": "ignored",
     "output_type": "error",
     "traceback": [
      "\u001b[0;31m---------------------------------------------------------------------------\u001b[0m",
      "\u001b[0;31mNameError\u001b[0m                                 Traceback (most recent call last)",
      "\u001b[0;32m<ipython-input-2-244bc1081737>\u001b[0m in \u001b[0;36m<module>\u001b[0;34m()\u001b[0m\n\u001b[0;32m----> 1\u001b[0;31m \u001b[0morange_labels\u001b[0m \u001b[0;34m=\u001b[0m \u001b[0mpd\u001b[0m\u001b[0;34m.\u001b[0m\u001b[0mread_csv\u001b[0m\u001b[0;34m(\u001b[0m\u001b[0;34m'/gdrive/My Drive/Colab Notebooks/FINAL_2/DATA/orange_small_churn_labels.train'\u001b[0m\u001b[0;34m,\u001b[0m \u001b[0mheader\u001b[0m\u001b[0;34m=\u001b[0m\u001b[0;32mNone\u001b[0m\u001b[0;34m,\u001b[0m \u001b[0mnames\u001b[0m\u001b[0;34m=\u001b[0m\u001b[0;34m[\u001b[0m\u001b[0;34m'label'\u001b[0m\u001b[0;34m]\u001b[0m\u001b[0;34m)\u001b[0m\u001b[0;34m\u001b[0m\u001b[0;34m\u001b[0m\u001b[0m\n\u001b[0m",
      "\u001b[0;31mNameError\u001b[0m: name 'pd' is not defined"
     ]
    }
   ],
   "source": [
    "orange_labels = pd.read_csv('/gdrive/My Drive/Colab Notebooks/FINAL_2/DATA/orange_small_churn_labels.train', header=None, names=['label'])"
   ]
  },
  {
   "cell_type": "code",
   "execution_count": 0,
   "metadata": {
    "colab": {},
    "colab_type": "code",
    "id": "RQRR9pYnsEI4"
   },
   "outputs": [],
   "source": [
    "orange_data_label = pd.concat([orange_data, orange_labels], axis=1)\n",
    "orange_data_label.shape"
   ]
  },
  {
   "cell_type": "code",
   "execution_count": 0,
   "metadata": {
    "colab": {},
    "colab_type": "code",
    "id": "uYgs5MBasEJE"
   },
   "outputs": [],
   "source": [
    "orange_data_label['label'].value_counts()"
   ]
  },
  {
   "cell_type": "markdown",
   "metadata": {
    "colab_type": "text",
    "id": "f5-pNhihsEJN"
   },
   "source": [
    "**Отделю небольшую выборку от существующих данных - hold-out dataset.**"
   ]
  },
  {
   "cell_type": "code",
   "execution_count": 0,
   "metadata": {
    "colab": {},
    "colab_type": "code",
    "id": "YF_yJgHOsEJR"
   },
   "outputs": [],
   "source": [
    "num_split = int((orange_data_label.shape[0]/4)*3)"
   ]
  },
  {
   "cell_type": "code",
   "execution_count": 0,
   "metadata": {
    "colab": {
     "base_uri": "https://localhost:8080/",
     "height": 34
    },
    "colab_type": "code",
    "executionInfo": {
     "elapsed": 538,
     "status": "ok",
     "timestamp": 1582473076333,
     "user": {
      "displayName": "Alexandr G.",
      "photoUrl": "https://lh3.googleusercontent.com/a-/AAuE7mClS9lT7I9GIyE01iu2ZUvoedcXdcleb7j2xhQtNWE=s64",
      "userId": "09466988309861796445"
     },
     "user_tz": -180
    },
    "id": "7Mgqxh1GsEJY",
    "outputId": "a04ccfae-7f91-42f0-fc1b-24917936136d"
   },
   "outputs": [
    {
     "data": {
      "text/plain": [
       "30000"
      ]
     },
     "execution_count": 12,
     "metadata": {
      "tags": []
     },
     "output_type": "execute_result"
    }
   ],
   "source": [
    "num_split"
   ]
  },
  {
   "cell_type": "code",
   "execution_count": 0,
   "metadata": {
    "colab": {},
    "colab_type": "code",
    "id": "Nvo8eV9ZsEJh"
   },
   "outputs": [],
   "source": [
    "train = orange_data_label.iloc[:num_split, :]\n",
    "hold_out_dataset = orange_data_label.iloc[num_split:, :]"
   ]
  },
  {
   "cell_type": "code",
   "execution_count": 0,
   "metadata": {
    "colab": {},
    "colab_type": "code",
    "id": "UirFkHD9sEJp"
   },
   "outputs": [],
   "source": [
    "train.to_csv('train.csv')\n",
    "hold_out_dataset.to_csv('hold_out_dataset.csv')"
   ]
  },
  {
   "cell_type": "markdown",
   "metadata": {
    "colab_type": "text",
    "id": "OjP-9E7asEJx"
   },
   "source": [
    "**Так как классы не сбалансированы проводим oversampling, добавляем необходимое количество строк с классом \"отток\" так, чтобы была пропорция классов примерно 1:1**"
   ]
  },
  {
   "cell_type": "code",
   "execution_count": 0,
   "metadata": {
    "colab": {},
    "colab_type": "code",
    "id": "LIgChS6xsEJ0"
   },
   "outputs": [],
   "source": [
    "from sklearn.utils import shuffle\n",
    "\n",
    "def oversampling(data):\n",
    "    dataChurn = data[data['label'] == 1]\n",
    "    dataNoChurn = data[data['label'] == -1]\n",
    "    alpha = (int)(dataNoChurn.shape[0]/dataChurn.shape[0])\n",
    "    dataChurnRet = dataChurn \n",
    "    for i in range(alpha):\n",
    "        dataChurnRet = dataChurnRet.append(dataChurn)\n",
    "    dataNoChurn = dataNoChurn.append(dataChurnRet)\n",
    "    dataNoChurn = shuffle(dataNoChurn)\n",
    "    return dataNoChurn.iloc[:,:230], dataNoChurn.iloc[:,230:]"
   ]
  },
  {
   "cell_type": "markdown",
   "metadata": {
    "colab_type": "text",
    "id": "irjNHKwGsEJ-"
   },
   "source": [
    "**Заменяем все пропуски в датасете на нули:**"
   ]
  },
  {
   "cell_type": "code",
   "execution_count": 0,
   "metadata": {
    "colab": {},
    "colab_type": "code",
    "id": "uWAd3CHWsEKB"
   },
   "outputs": [],
   "source": [
    "train_data = train.fillna(0)"
   ]
  },
  {
   "cell_type": "markdown",
   "metadata": {
    "colab_type": "text",
    "id": "i3lRwuQLsEKI"
   },
   "source": [
    "**Проводим oversampling для того, чтобы сделать пропорцию классов 1:1**"
   ]
  },
  {
   "cell_type": "code",
   "execution_count": 0,
   "metadata": {
    "colab": {},
    "colab_type": "code",
    "id": "HmMYVKPHsEKL"
   },
   "outputs": [],
   "source": [
    "x_data, y_data = oversampling(train_data)"
   ]
  },
  {
   "cell_type": "markdown",
   "metadata": {
    "colab_type": "text",
    "id": "9rj9Pw1xsEKS"
   },
   "source": [
    "**Для преобразования категориальных фич был использован preprocessing.LabelEncoder**"
   ]
  },
  {
   "cell_type": "code",
   "execution_count": 0,
   "metadata": {
    "colab": {},
    "colab_type": "code",
    "id": "fo4Fl_pQsEKT"
   },
   "outputs": [],
   "source": [
    "from sklearn.preprocessing import LabelEncoder\n",
    "\n",
    "def labelEncoder(data):\n",
    "    data = data.fillna(0)\n",
    "    le = LabelEncoder()\n",
    "    for m in range(190,230):\n",
    "        #print(m)\n",
    "        tmp = data.iloc[:,m].astype(str)\n",
    "        le.fit(tmp)\n",
    "        data.iloc[:,m] = le.transform(tmp)        \n",
    "    return data"
   ]
  },
  {
   "cell_type": "code",
   "execution_count": 0,
   "metadata": {
    "colab": {},
    "colab_type": "code",
    "id": "pzN-oCHNsEKb"
   },
   "outputs": [],
   "source": [
    "x_data_le = labelEncoder(x_data)"
   ]
  },
  {
   "cell_type": "markdown",
   "metadata": {
    "colab_type": "text",
    "id": "hRTM9_SPsEKh"
   },
   "source": [
    "**Создам функцию для разделения и оценки**"
   ]
  },
  {
   "cell_type": "code",
   "execution_count": 0,
   "metadata": {
    "colab": {},
    "colab_type": "code",
    "id": "7m9eCvbssEKj"
   },
   "outputs": [],
   "source": [
    "from sklearn.model_selection import StratifiedKFold\n",
    "from sklearn.linear_model import RidgeClassifier\n",
    "from sklearn.model_selection import cross_validate\n",
    "from sklearn.metrics import f1_score, precision_recall_curve, average_precision_score, roc_curve, auc"
   ]
  },
  {
   "cell_type": "code",
   "execution_count": 0,
   "metadata": {
    "colab": {},
    "colab_type": "code",
    "id": "v6YpR6s1sEKq"
   },
   "outputs": [],
   "source": [
    "# кросс-валидация ведется с помощью StratifiedKFold, количество фолдов - 5. + f1 score\n",
    "def KFold(estimator, x_data, y_data):\n",
    "    skf = StratifiedKFold(n_splits=5)\n",
    "    y_scores = pd.DataFrame()\n",
    "    y_tests = pd.DataFrame()\n",
    "    y_pred = pd.DataFrame() \n",
    "    f1 = np.array([])\n",
    "    n = 0\n",
    "    for train_index, test_index in skf.split(x_data, y_data):\n",
    "        estimator.fit(x_data.iloc[train_index, :], y_data.iloc[train_index, 0])\n",
    "        y_scores['fold_'+str(n)] = pd.Series(estimator.decision_function(x_data.iloc[test_index, :]))\n",
    "        y_pred['fold_'+str(n)] = pd.Series(estimator.predict(x_data.iloc[test_index, :]))\n",
    "        y_tests['fold_'+str(n)] = pd.Series(y_data.iloc[test_index, 0].values)\n",
    "        f1 = np.append(f1, f1_score(y_data.iloc[test_index, 0], y_pred.iloc[:,n].dropna())) \n",
    "        print(f1_score(y_data.iloc[test_index, 0], y_pred.iloc[:,n].dropna()))\n",
    "        n+=1\n",
    "    print ('mean f1 score: '+str(np.mean(f1)))\n",
    "    return (y_scores, y_tests)"
   ]
  },
  {
   "cell_type": "code",
   "execution_count": 0,
   "metadata": {
    "colab": {},
    "colab_type": "code",
    "id": "8u8sK4f8Ek8i"
   },
   "outputs": [],
   "source": [
    "# построение AUC_PRC        \n",
    "def PRC(y_scores, y_tests):\n",
    "    plt.figure(figsize = (7,7))\n",
    "    mean_PR = np.array([])\n",
    "    n = 0\n",
    "    for i, j in zip(y_scores, y_tests):\n",
    "        precision, recall, _ = precision_recall_curve(y_tests[i].dropna(), y_scores[j].dropna())\n",
    "        average_precision = average_precision_score(y_tests[i].dropna(), y_scores[j].dropna())\n",
    "        mean_PR = np.append(mean_PR, average_precision)\n",
    "        plt.plot(recall, precision, color='b', alpha=0.5, label='PR fold '+str(n) + ' (score = %0.2f)' % average_precision)\n",
    "        plt.fill_between(recall, precision, step='post', alpha=0.2, color='b')\n",
    "        n+=1\n",
    "    plt.xlabel('Recall')\n",
    "    plt.ylabel('Precision')\n",
    "    plt.ylim([0.0, 1.05])\n",
    "    plt.xlim([0.0, 1.0])\n",
    "    plt.legend(loc=\"upper right\")\n",
    "    plt.title('2-class Precision-Recall curve: Mean PR={0:0.3f}'.format(mean_PR.mean()))\n",
    "    plt.show()"
   ]
  },
  {
   "cell_type": "code",
   "execution_count": 0,
   "metadata": {
    "colab": {},
    "colab_type": "code",
    "id": "8tACWe8WE9Je"
   },
   "outputs": [],
   "source": [
    "# построение AUC_ROC  \n",
    "def ROC(y_scores, y_test):\n",
    "    plt.figure(figsize = (7,7))\n",
    "    Mean_ROC = np.array([])\n",
    "    n = 0\n",
    "    for i, j in zip(y_scores, y_tests):\n",
    "        fpr, tpr, thresholds = roc_curve(y_tests[i].dropna(), y_scores[j].dropna())\n",
    "        roc_auc = auc(fpr, tpr)\n",
    "        lw = 2\n",
    "        Mean_ROC = np.append(Mean_ROC, roc_auc)\n",
    "        plt.plot(fpr, tpr, color='darkorange', lw=lw, label='ROC fold '+str(n)+' (area = %0.2f)' % roc_auc)\n",
    "        plt.plot([0, 1], [0, 1], color='navy', lw=lw, linestyle='--')\n",
    "        n += 1\n",
    "    plt.xlim([0.0, 1.0])\n",
    "    plt.ylim([0.0, 1.05])\n",
    "    plt.xlabel('False Positive Rate')\n",
    "    plt.ylabel('True Positive Rate')\n",
    "    plt.legend(loc=\"lower right\")\n",
    "    plt.title('2-class ROC curve: Mean ROC area={0:0.3f}'.format(Mean_ROC.mean()))\n",
    "    plt.show()"
   ]
  },
  {
   "cell_type": "markdown",
   "metadata": {
    "colab_type": "text",
    "id": "KU0OhGdRJIgh"
   },
   "source": [
    "**RidgeClassifier**"
   ]
  },
  {
   "cell_type": "code",
   "execution_count": 0,
   "metadata": {
    "colab": {
     "base_uri": "https://localhost:8080/",
     "height": 295
    },
    "colab_type": "code",
    "executionInfo": {
     "elapsed": 2960,
     "status": "ok",
     "timestamp": 1582478373831,
     "user": {
      "displayName": "Alexandr G.",
      "photoUrl": "https://lh3.googleusercontent.com/a-/AAuE7mClS9lT7I9GIyE01iu2ZUvoedcXdcleb7j2xhQtNWE=s64",
      "userId": "09466988309861796445"
     },
     "user_tz": -180
    },
    "id": "7fCuNLRNsEKw",
    "outputId": "f8eb6f46-0604-486f-e861-696616d53448"
   },
   "outputs": [
    {
     "name": "stderr",
     "output_type": "stream",
     "text": [
      "/usr/local/lib/python3.6/dist-packages/sklearn/linear_model/_ridge.py:148: LinAlgWarning: Ill-conditioned matrix (rcond=2.42529e-19): result may not be accurate.\n",
      "  overwrite_a=True).T\n"
     ]
    },
    {
     "name": "stdout",
     "output_type": "stream",
     "text": [
      "0.6510610724121173\n"
     ]
    },
    {
     "name": "stderr",
     "output_type": "stream",
     "text": [
      "/usr/local/lib/python3.6/dist-packages/sklearn/linear_model/_ridge.py:148: LinAlgWarning: Ill-conditioned matrix (rcond=2.40495e-19): result may not be accurate.\n",
      "  overwrite_a=True).T\n"
     ]
    },
    {
     "name": "stdout",
     "output_type": "stream",
     "text": [
      "0.6502349352897535\n"
     ]
    },
    {
     "name": "stderr",
     "output_type": "stream",
     "text": [
      "/usr/local/lib/python3.6/dist-packages/sklearn/linear_model/_ridge.py:148: LinAlgWarning: Ill-conditioned matrix (rcond=2.71281e-19): result may not be accurate.\n",
      "  overwrite_a=True).T\n"
     ]
    },
    {
     "name": "stdout",
     "output_type": "stream",
     "text": [
      "0.6489466754443713\n"
     ]
    },
    {
     "name": "stderr",
     "output_type": "stream",
     "text": [
      "/usr/local/lib/python3.6/dist-packages/sklearn/linear_model/_ridge.py:148: LinAlgWarning: Ill-conditioned matrix (rcond=2.22065e-19): result may not be accurate.\n",
      "  overwrite_a=True).T\n"
     ]
    },
    {
     "name": "stdout",
     "output_type": "stream",
     "text": [
      "0.6591223642432631\n",
      "0.6559726406644409\n",
      "mean f1 score: 0.6530675376107892\n"
     ]
    },
    {
     "name": "stderr",
     "output_type": "stream",
     "text": [
      "/usr/local/lib/python3.6/dist-packages/sklearn/linear_model/_ridge.py:148: LinAlgWarning: Ill-conditioned matrix (rcond=2.70712e-19): result may not be accurate.\n",
      "  overwrite_a=True).T\n"
     ]
    }
   ],
   "source": [
    "ridge = RidgeClassifier(random_state=2)\n",
    "y_scores, y_tests = KFold(ridge, x_data_le, y_data)"
   ]
  },
  {
   "cell_type": "code",
   "execution_count": 0,
   "metadata": {
    "colab": {
     "base_uri": "https://localhost:8080/",
     "height": 899
    },
    "colab_type": "code",
    "executionInfo": {
     "elapsed": 2088,
     "status": "ok",
     "timestamp": 1582479564500,
     "user": {
      "displayName": "Alexandr G.",
      "photoUrl": "https://lh3.googleusercontent.com/a-/AAuE7mClS9lT7I9GIyE01iu2ZUvoedcXdcleb7j2xhQtNWE=s64",
      "userId": "09466988309861796445"
     },
     "user_tz": -180
    },
    "id": "yq_qKXwMsEK3",
    "outputId": "2b7e2d9a-5bdb-4006-ccf6-e19361ee2e4d"
   },
   "outputs": [
    {
     "data": {
      "image/png": "[encoded data removed]",
      "text/plain": [
       "<Figure size 504x504 with 1 Axes>"
      ]
     },
     "metadata": {
      "tags": []
     },
     "output_type": "display_data"
    },
    {
     "data": {
      "image/png": "[encoded data removed]",
      "text/plain": [
       "<Figure size 504x504 with 1 Axes>"
      ]
     },
     "metadata": {
      "tags": []
     },
     "output_type": "display_data"
    }
   ],
   "source": [
    "ROC(y_scores, y_tests)\n",
    "PRC(y_scores, y_tests)"
   ]
  },
  {
   "cell_type": "markdown",
   "metadata": {
    "colab_type": "text",
    "id": "3R4kxlZlJWjY"
   },
   "source": [
    "**GradientBoostingClassifier**"
   ]
  },
  {
   "cell_type": "code",
   "execution_count": 0,
   "metadata": {
    "colab": {},
    "colab_type": "code",
    "id": "L-J_hGM8J02A"
   },
   "outputs": [],
   "source": [
    "from sklearn.ensemble import GradientBoostingClassifier"
   ]
  },
  {
   "cell_type": "code",
   "execution_count": 0,
   "metadata": {
    "colab": {
     "base_uri": "https://localhost:8080/",
     "height": 121
    },
    "colab_type": "code",
    "executionInfo": {
     "elapsed": 236430,
     "status": "ok",
     "timestamp": 1582480200089,
     "user": {
      "displayName": "Alexandr G.",
      "photoUrl": "https://lh3.googleusercontent.com/a-/AAuE7mClS9lT7I9GIyE01iu2ZUvoedcXdcleb7j2xhQtNWE=s64",
      "userId": "09466988309861796445"
     },
     "user_tz": -180
    },
    "id": "YPWmhdMCsEK_",
    "outputId": "fdaf4bde-7e8e-45d7-ae18-eb0a70446556"
   },
   "outputs": [
    {
     "name": "stdout",
     "output_type": "stream",
     "text": [
      "0.7317073170731707\n",
      "0.7353328938694792\n",
      "0.7164476966572426\n",
      "0.7291339882770577\n",
      "0.722935475855214\n",
      "mean f1 score: 0.7271114743464329\n"
     ]
    }
   ],
   "source": [
    "gb = GradientBoostingClassifier()\n",
    "y_scores, y_tests = KFold(gb, x_data_le, y_data)"
   ]
  },
  {
   "cell_type": "markdown",
   "metadata": {
    "colab_type": "text",
    "id": "QEe-zXZjLOED"
   },
   "source": [
    "**RandomForestClassifier**"
   ]
  },
  {
   "cell_type": "code",
   "execution_count": 0,
   "metadata": {
    "colab": {},
    "colab_type": "code",
    "id": "0p2SLp1bLWWe"
   },
   "outputs": [],
   "source": [
    "from sklearn.ensemble import RandomForestClassifier"
   ]
  },
  {
   "cell_type": "code",
   "execution_count": 0,
   "metadata": {
    "colab": {},
    "colab_type": "code",
    "id": "frVsFqBbMA7y"
   },
   "outputs": [],
   "source": [
    "# кросс-валидация ведется с помощью StratifiedKFold, количество фолдов - 5. + f1 score\n",
    "def KFoldRF(estimator, x_data, y_data):\n",
    "    skf = StratifiedKFold(n_splits=5)\n",
    "    y_scores = pd.DataFrame()\n",
    "    y_tests = pd.DataFrame()\n",
    "    y_pred = pd.DataFrame() \n",
    "    f1 = np.array([])\n",
    "    n = 0\n",
    "    for train_index, test_index in skf.split(x_data, y_data):\n",
    "        estimator.fit(x_data.iloc[train_index, :], y_data.iloc[train_index, 0])\n",
    "        #y_scores['fold_'+str(n)] = pd.Series(estimator.decision_function(x_data.iloc[test_index, :]))\n",
    "        y_pred['fold_'+str(n)] = pd.Series(estimator.predict(x_data.iloc[test_index, :]))\n",
    "        #y_tests['fold_'+str(n)] = pd.Series(y_data.iloc[test_index, 0].values)\n",
    "        f1 = np.append(f1, f1_score(y_data.iloc[test_index, 0], y_pred.iloc[:,n].dropna())) \n",
    "        print(f1_score(y_data.iloc[test_index, 0], y_pred.iloc[:,n].dropna()))\n",
    "        n+=1\n",
    "    print ('mean f1 score: '+str(np.mean(f1)))\n",
    "    return (y_scores, y_tests)"
   ]
  },
  {
   "cell_type": "code",
   "execution_count": 0,
   "metadata": {
    "colab": {
     "base_uri": "https://localhost:8080/",
     "height": 121
    },
    "colab_type": "code",
    "executionInfo": {
     "elapsed": 70391,
     "status": "ok",
     "timestamp": 1582481092914,
     "user": {
      "displayName": "Alexandr G.",
      "photoUrl": "https://lh3.googleusercontent.com/a-/AAuE7mClS9lT7I9GIyE01iu2ZUvoedcXdcleb7j2xhQtNWE=s64",
      "userId": "09466988309861796445"
     },
     "user_tz": -180
    },
    "id": "gYAz_B6rNZzU",
    "outputId": "1f8c0cf6-2352-4a0a-f679-a580cece840e"
   },
   "outputs": [
    {
     "name": "stdout",
     "output_type": "stream",
     "text": [
      "0.9995715142685748\n",
      "0.9993145990404386\n",
      "0.9994858611825194\n",
      "0.9993145990404386\n",
      "0.9991432488005484\n",
      "mean f1 score: 0.999365964466504\n"
     ]
    }
   ],
   "source": [
    "clf=RandomForestClassifier(n_estimators=100)\n",
    "y_scores, y_tests = KFoldRF(clf, x_data_le, y_data)"
   ]
  },
  {
   "cell_type": "code",
   "execution_count": 0,
   "metadata": {
    "colab": {},
    "colab_type": "code",
    "id": "pe8xZwGQNj9m"
   },
   "outputs": [],
   "source": [
    "###\n"
   ]
  },
  {
   "cell_type": "markdown",
   "metadata": {
    "colab_type": "text",
    "id": "lgM818gwOoov"
   },
   "source": [
    "### Лучше всего RandomForestClassifier"
   ]
  },
  {
   "cell_type": "code",
   "execution_count": 0,
   "metadata": {
    "colab": {},
    "colab_type": "code",
    "id": "5iEgDFTiOt_D"
   },
   "outputs": [],
   "source": []
  }
 ],
 "metadata": {
  "colab": {
   "name": "W3.ipynb",
   "provenance": []
  },
  "kernelspec": {
   "display_name": "Python 3",
   "language": "python",
   "name": "python3"
  },
  "language_info": {
   "codemirror_mode": {
    "name": "ipython",
    "version": 3
   },
   "file_extension": ".py",
   "mimetype": "text/x-python",
   "name": "python",
   "nbconvert_exporter": "python",
   "pygments_lexer": "ipython3",
   "version": "3.7.6"
  }
 },
 "nbformat": 4,
 "nbformat_minor": 1
}
